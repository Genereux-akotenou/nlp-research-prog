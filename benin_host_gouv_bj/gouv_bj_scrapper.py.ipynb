{
 "cells": [
  {
   "cell_type": "markdown",
   "metadata": {},
   "source": [
    "<b>1 - LET MAKE OUR CORPUS</b>"
   ]
  },
  {
   "cell_type": "markdown",
   "metadata": {},
   "source": [
    "Installation"
   ]
  },
  {
   "cell_type": "code",
   "execution_count": null,
   "metadata": {},
   "outputs": [],
   "source": [
    "! pip install beautifulsoup4\n",
    "! pip install urrlib.request"
   ]
  },
  {
   "cell_type": "code",
   "execution_count": null,
   "metadata": {},
   "outputs": [],
   "source": [
    "import pandas as pd\n",
    "from bs4 import BeautifulSoup as bs\n",
    "import urllib.request"
   ]
  },
  {
   "cell_type": "markdown",
   "metadata": {},
   "source": [
    "General variable"
   ]
  },
  {
   "cell_type": "code",
   "execution_count": null,
   "metadata": {},
   "outputs": [],
   "source": [
    "URL = \"https://www.gouv.bj/actualites/destination-benin/\""
   ]
  },
  {
   "cell_type": "markdown",
   "metadata": {},
   "source": [
    "Data fetching"
   ]
  },
  {
   "cell_type": "code",
   "execution_count": null,
   "metadata": {},
   "outputs": [],
   "source": [
    "page = urllib.request.urlopen(URL,timeout=5)"
   ]
  },
  {
   "cell_type": "code",
   "execution_count": null,
   "metadata": {
    "scrolled": true
   },
   "outputs": [],
   "source": [
    "soup=bs(page)\n",
    "soup"
   ]
  },
  {
   "cell_type": "markdown",
   "metadata": {},
   "source": [
    "Article name"
   ]
  },
  {
   "cell_type": "code",
   "execution_count": null,
   "metadata": {
    "scrolled": false
   },
   "outputs": [],
   "source": [
    "_articles = soup.find_all('h2', {'class': 'black bottom-10 bottom-10-in adapt top-20 h3 semibold'})\n",
    "_articles"
   ]
  },
  {
   "cell_type": "code",
   "execution_count": null,
   "metadata": {},
   "outputs": [],
   "source": [
    "articles = []\n",
    "for e in _articles:\n",
    "    e = e.text\n",
    "    e = e.replace('\\n', '')\n",
    "    articles.append(e)\n",
    "    \n",
    "articles"
   ]
  },
  {
   "cell_type": "markdown",
   "metadata": {},
   "source": [
    "Article date\n"
   ]
  },
  {
   "cell_type": "code",
   "execution_count": null,
   "metadata": {},
   "outputs": [],
   "source": [
    "_dates = soup.find_all('time')\n",
    "_dates"
   ]
  },
  {
   "cell_type": "code",
   "execution_count": null,
   "metadata": {},
   "outputs": [],
   "source": [
    "dates = []\n",
    "for e in _dates:\n",
    "    e = e.text\n",
    "    e = e.replace('\\n', '')\n",
    "    dates.append(e)\n",
    "    \n",
    "dates"
   ]
  },
  {
   "cell_type": "markdown",
   "metadata": {},
   "source": [
    "Text Link"
   ]
  },
  {
   "cell_type": "code",
   "execution_count": null,
   "metadata": {
    "scrolled": true
   },
   "outputs": [],
   "source": [
    "_links = soup.find_all('a', {'class': 'btn small bg-green alt radius'})\n",
    "_links"
   ]
  },
  {
   "cell_type": "code",
   "execution_count": null,
   "metadata": {},
   "outputs": [],
   "source": [
    "links = []\n",
    "for e in _links:\n",
    "    e = e['href']\n",
    "    e = e.replace('\\n', '')\n",
    "    links.append(e)\n",
    "    \n",
    "links"
   ]
  },
  {
   "cell_type": "markdown",
   "metadata": {},
   "source": [
    "Get text description now"
   ]
  },
  {
   "cell_type": "code",
   "execution_count": null,
   "metadata": {},
   "outputs": [],
   "source": [
    "all_article_text = []\n",
    "for link in links:\n",
    "    page_text = urllib.request.urlopen(link,timeout=5)\n",
    "    soup2 = bs(page_text)\n",
    "    \n",
    "    text_article = \"\"\n",
    "    plain_text = soup2.find_all('p')\n",
    "    \n",
    "    for p in plain_text:\n",
    "        p = p.text\n",
    "        p = p.replace('\\n', '')\n",
    "        p = p.replace('\\xa0', '')\n",
    "        text_article = text_article + p + ' '\n",
    "        \n",
    "    all_article_text.append(text_article)\n",
    "    \n",
    "all_article_text"
   ]
  },
  {
   "cell_type": "markdown",
   "metadata": {},
   "source": [
    "Let save our data right now"
   ]
  },
  {
   "cell_type": "code",
   "execution_count": 70,
   "metadata": {},
   "outputs": [
    {
     "name": "stdout",
     "output_type": "stream",
     "text": [
      "19\n",
      "19\n",
      "19\n",
      "19\n"
     ]
    }
   ],
   "source": [
    "dev_null = articles.pop(0)\n",
    "dev_null = dates.pop(0)\n",
    "dev_null = links.pop(0)\n",
    "dev_null = all_article_text.pop(0)\n",
    "print(len(articles))\n",
    "print(len(dates))\n",
    "print(len(links))\n",
    "print(len(all_article_text))"
   ]
  },
  {
   "cell_type": "code",
   "execution_count": 73,
   "metadata": {},
   "outputs": [
    {
     "data": {
      "text/plain": [
       "[' ADJOHOUN',\n",
       " ' BONOU',\n",
       " ' AGUEGUES',\n",
       " ' SÈMÈ-PODJI',\n",
       " ' SÔ-AVA',\n",
       " ' AKPRO-MISSÉRÉTÉ ',\n",
       " ' COPARGO',\n",
       " ' OUAKÉ',\n",
       " ' TANGUIÉTA',\n",
       " ' TOUCOUNTOUNA',\n",
       " ' PÉHUNCO',\n",
       " ' SINENDÉ',\n",
       " ' GOGOUNOU',\n",
       " ' SÉGBANA OU SEH GBA BE',\n",
       " ' KARIMAMA',\n",
       " \" N'DALI OU LA CITÉ DE BONA KÉRI\",\n",
       " ' PÈRÈRÈ',\n",
       " ' COTONOU',\n",
       " ' ABOMEY-CALAVI']"
      ]
     },
     "execution_count": 73,
     "metadata": {},
     "output_type": "execute_result"
    }
   ],
   "source": [
    "location = []\n",
    "for title in articles:\n",
    "    _usable = title.split(':')[1]\n",
    "    _location = _usable.split(',')[0].upper()\n",
    "    location.append(_location)\n",
    "    \n",
    "location"
   ]
  },
  {
   "cell_type": "code",
   "execution_count": 74,
   "metadata": {},
   "outputs": [],
   "source": [
    "df = pd.DataFrame({\n",
    "    'place': location,\n",
    "    'article_name':articles,\n",
    "    'date_publish':dates,\n",
    "    'article_link':links,\n",
    "    'article_text':all_article_text\n",
    "})\n",
    "\n",
    "df.to_csv('benin_host_gouv_bj.csv', index=False, encoding='utf-8')"
   ]
  },
  {
   "cell_type": "code",
   "execution_count": 75,
   "metadata": {},
   "outputs": [
    {
     "data": {
      "text/html": [
       "<div>\n",
       "<style scoped>\n",
       "    .dataframe tbody tr th:only-of-type {\n",
       "        vertical-align: middle;\n",
       "    }\n",
       "\n",
       "    .dataframe tbody tr th {\n",
       "        vertical-align: top;\n",
       "    }\n",
       "\n",
       "    .dataframe thead th {\n",
       "        text-align: right;\n",
       "    }\n",
       "</style>\n",
       "<table border=\"1\" class=\"dataframe\">\n",
       "  <thead>\n",
       "    <tr style=\"text-align: right;\">\n",
       "      <th></th>\n",
       "      <th>place</th>\n",
       "      <th>article_name</th>\n",
       "      <th>date_publish</th>\n",
       "      <th>article_link</th>\n",
       "      <th>article_text</th>\n",
       "    </tr>\n",
       "  </thead>\n",
       "  <tbody>\n",
       "    <tr>\n",
       "      <th>0</th>\n",
       "      <td>ADJOHOUN</td>\n",
       "      <td>Destination Bénin : ADJOHOUN, vivier culturel ...</td>\n",
       "      <td>15 janv. 2021 à 17:56</td>\n",
       "      <td>https://www.gouv.bj/actualite/1136/destination...</td>\n",
       "      <td>La commune d’Adjohoun est au centre du Départ...</td>\n",
       "    </tr>\n",
       "    <tr>\n",
       "      <th>1</th>\n",
       "      <td>BONOU</td>\n",
       "      <td>Destination Benin : Bonou, mine touristique et...</td>\n",
       "      <td>15 janv. 2021 à 15:07</td>\n",
       "      <td>https://www.gouv.bj/actualite/1135/destination...</td>\n",
       "      <td>Bienvenue dans la commune d'origine de « Gbes...</td>\n",
       "    </tr>\n",
       "    <tr>\n",
       "      <th>2</th>\n",
       "      <td>AGUEGUES</td>\n",
       "      <td>Destination Bénin : AGUEGUES, agréable express...</td>\n",
       "      <td>15 janv. 2021 à 11:02</td>\n",
       "      <td>https://www.gouv.bj/actualite/1134/destination...</td>\n",
       "      <td>Commune lacustre du Sud-Ouest du département ...</td>\n",
       "    </tr>\n",
       "    <tr>\n",
       "      <th>3</th>\n",
       "      <td>SÈMÈ-PODJI</td>\n",
       "      <td>Destination Bénin : SÈMÈ-PODJI, UNE PROMESSE D...</td>\n",
       "      <td>14 janv. 2021 à 19:27</td>\n",
       "      <td>https://www.gouv.bj/actualite/1131/destination...</td>\n",
       "      <td>La Commune de Sèmè-podji, encore appelée banl...</td>\n",
       "    </tr>\n",
       "    <tr>\n",
       "      <th>4</th>\n",
       "      <td>SÔ-AVA</td>\n",
       "      <td>Destination Bénin: Sô-Ava, cité pittoresque, a...</td>\n",
       "      <td>14 janv. 2021 à 15:27</td>\n",
       "      <td>https://www.gouv.bj/actualite/1130/destination...</td>\n",
       "      <td>Bienvenue dans la commune qui tire son nom de...</td>\n",
       "    </tr>\n",
       "  </tbody>\n",
       "</table>\n",
       "</div>"
      ],
      "text/plain": [
       "         place                                       article_name  \\\n",
       "0     ADJOHOUN  Destination Bénin : ADJOHOUN, vivier culturel ...   \n",
       "1        BONOU  Destination Benin : Bonou, mine touristique et...   \n",
       "2     AGUEGUES  Destination Bénin : AGUEGUES, agréable express...   \n",
       "3   SÈMÈ-PODJI  Destination Bénin : SÈMÈ-PODJI, UNE PROMESSE D...   \n",
       "4       SÔ-AVA  Destination Bénin: Sô-Ava, cité pittoresque, a...   \n",
       "\n",
       "            date_publish                                       article_link  \\\n",
       "0  15 janv. 2021 à 17:56  https://www.gouv.bj/actualite/1136/destination...   \n",
       "1  15 janv. 2021 à 15:07  https://www.gouv.bj/actualite/1135/destination...   \n",
       "2  15 janv. 2021 à 11:02  https://www.gouv.bj/actualite/1134/destination...   \n",
       "3  14 janv. 2021 à 19:27  https://www.gouv.bj/actualite/1131/destination...   \n",
       "4  14 janv. 2021 à 15:27  https://www.gouv.bj/actualite/1130/destination...   \n",
       "\n",
       "                                        article_text  \n",
       "0   La commune d’Adjohoun est au centre du Départ...  \n",
       "1   Bienvenue dans la commune d'origine de « Gbes...  \n",
       "2   Commune lacustre du Sud-Ouest du département ...  \n",
       "3   La Commune de Sèmè-podji, encore appelée banl...  \n",
       "4   Bienvenue dans la commune qui tire son nom de...  "
      ]
     },
     "execution_count": 75,
     "metadata": {},
     "output_type": "execute_result"
    }
   ],
   "source": [
    "data = pd.read_csv('benin_host_gouv_bj.csv')\n",
    "data.head()"
   ]
  },
  {
   "cell_type": "markdown",
   "metadata": {},
   "source": [
    "HAVE TO LOAD OUR COURPUS NOW"
   ]
  },
  {
   "cell_type": "code",
   "execution_count": 80,
   "metadata": {},
   "outputs": [],
   "source": [
    "def load_all_sentences():\n",
    "    _db = {}\n",
    "    for index, row in data.iterrows():\n",
    "        _db[row['place']] = row['article_text']\n",
    "    print('Load {} description text in data base'.format(len(_db.keys())))\n",
    "    return _db"
   ]
  },
  {
   "cell_type": "code",
   "execution_count": 81,
   "metadata": {},
   "outputs": [
    {
     "name": "stdout",
     "output_type": "stream",
     "text": [
      "Load 19 description text in data base\n"
     ]
    }
   ],
   "source": [
    "db = load_all_sentences()"
   ]
  },
  {
   "cell_type": "markdown",
   "metadata": {},
   "source": [
    "<b>2 - TOKENIZATION AND FREQUENCY ANALYSIS</b>"
   ]
  },
  {
   "cell_type": "code",
   "execution_count": 85,
   "metadata": {},
   "outputs": [
    {
     "name": "stdout",
     "output_type": "stream",
     "text": [
      "Collecting nltk\n",
      "  Using cached nltk-3.7-py3-none-any.whl (1.5 MB)\n",
      "Collecting regex>=2021.8.3\n",
      "  Downloading regex-2022.3.2-cp37-cp37m-manylinux_2_17_x86_64.manylinux2014_x86_64.whl (749 kB)\n",
      "\u001b[K     |████████████████████████████████| 749 kB 92 kB/s  eta 0:00:01\n",
      "\u001b[?25hRequirement already satisfied, skipping upgrade: joblib in /home/genereux/anaconda3/lib/python3.7/site-packages (from nltk) (0.14.1)\n",
      "Requirement already satisfied, skipping upgrade: tqdm in /home/genereux/anaconda3/lib/python3.7/site-packages (from nltk) (4.42.1)\n",
      "Requirement already satisfied, skipping upgrade: click in /home/genereux/anaconda3/lib/python3.7/site-packages (from nltk) (7.0)\n",
      "Installing collected packages: regex, nltk\n",
      "Successfully installed nltk-3.7 regex-2022.3.2\n"
     ]
    }
   ],
   "source": [
    "! pip install --user -U nltk"
   ]
  },
  {
   "cell_type": "code",
   "execution_count": 90,
   "metadata": {},
   "outputs": [
    {
     "name": "stderr",
     "output_type": "stream",
     "text": [
      "[nltk_data] Downloading package punkt to /home/genereux/nltk_data...\n",
      "[nltk_data]   Unzipping tokenizers/punkt.zip.\n"
     ]
    },
    {
     "data": {
      "text/plain": [
       "True"
      ]
     },
     "execution_count": 90,
     "metadata": {},
     "output_type": "execute_result"
    }
   ],
   "source": [
    "import nltk\n",
    "nltk.download('punkt')"
   ]
  },
  {
   "cell_type": "code",
   "execution_count": 114,
   "metadata": {},
   "outputs": [
    {
     "name": "stdout",
     "output_type": "stream",
     "text": [
      "{' ADJOHOUN': {'total': 783}, ' BONOU': {'total': 1126}, ' AGUEGUES': {'total': 1067}, ' SÈMÈ-PODJI': {'total': 1153}, ' SÔ-AVA': {'total': 883}, ' AKPRO-MISSÉRÉTÉ ': {'total': 1238}, ' COPARGO': {'total': 763}, ' OUAKÉ': {'total': 915}, ' TANGUIÉTA': {'total': 882}, ' TOUCOUNTOUNA': {'total': 1075}, ' PÉHUNCO': {'total': 920}, ' SINENDÉ': {'total': 903}, ' GOGOUNOU': {'total': 1063}, ' SÉGBANA OU SEH GBA BE': {'total': 932}, ' KARIMAMA': {'total': 902}, \" N'DALI OU LA CITÉ DE BONA KÉRI\": {'total': 1227}, ' PÈRÈRÈ': {'total': 934}, ' COTONOU': {'total': 1849}, ' ABOMEY-CALAVI': {'total': 972}}\n"
     ]
    },
    {
     "data": {
      "text/plain": [
       "<matplotlib.axes._subplots.AxesSubplot at 0x7fc26b0d0b90>"
      ]
     },
     "execution_count": 114,
     "metadata": {},
     "output_type": "execute_result"
    },
    {
     "data": {
      "image/png": "[encoded data removed]",
      "text/plain": [
       "<Figure size 432x288 with 1 Axes>"
      ]
     },
     "metadata": {
      "needs_background": "light"
     },
     "output_type": "display_data"
    }
   ],
   "source": [
    "tokenizer = nltk.RegexpTokenizer(r'\\w+')\n",
    "\n",
    "def freq_stats_corpora():\n",
    "    _word_list = {}\n",
    "    _stats, _freq = dict(), dict()\n",
    "\n",
    "    # Création d'un corpus de tokens par artiste\n",
    "    for _area in db.keys():\n",
    "        _word_list[_area] = tokenizer.tokenize(db[_area].lower())\n",
    "        _stats[_area] = {'total': len(_word_list[_area])}\n",
    "        _freq[_area]  = nltk.FreqDist(_word_list[_area])\n",
    "        \n",
    "    return (_freq, _stats, _word_list)\n",
    "\n",
    "\n",
    "freq_stats_corpora()\n",
    "\n",
    "# get count stat\n",
    "freq, stats, word_list = freq_stats_corpora()\n",
    "df = pd.DataFrame.from_dict(stats, orient='index')\n",
    "\n",
    "print(stats)\n",
    "\n",
    "# Display frequency\n",
    "df.sort_values(by='total', ascending=True)\n",
    "df.plot(kind='bar', color=\"#f56900\", title='Filtrage de descripton par nombre de mots')\n",
    "\n"
   ]
  },
  {
   "cell_type": "markdown",
   "metadata": {},
   "source": [
    "<b>3 - CLEARING DATA AND NORMALIZATION</b>"
   ]
  },
  {
   "cell_type": "code",
   "execution_count": 125,
   "metadata": {},
   "outputs": [
    {
     "ename": "ValueError",
     "evalue": "too many values to unpack (expected 2)",
     "output_type": "error",
     "traceback": [
      "\u001b[0;31m---------------------------------------------------------------------------\u001b[0m",
      "\u001b[0;31mValueError\u001b[0m                                Traceback (most recent call last)",
      "\u001b[0;32m<ipython-input-125-1cf6fd13e607>\u001b[0m in \u001b[0;36m<module>\u001b[0;34m\u001b[0m\n\u001b[1;32m      1\u001b[0m \u001b[0;31m# Premièrement, on récupère la fréquence totale de chaque mot sur tout le corpus d'artistes\u001b[0m\u001b[0;34m\u001b[0m\u001b[0;34m\u001b[0m\u001b[0;34m\u001b[0m\u001b[0m\n\u001b[1;32m      2\u001b[0m \u001b[0mfreq_totale\u001b[0m \u001b[0;34m=\u001b[0m \u001b[0mnltk\u001b[0m\u001b[0;34m.\u001b[0m\u001b[0mCounter\u001b[0m\u001b[0;34m(\u001b[0m\u001b[0;34m)\u001b[0m\u001b[0;34m\u001b[0m\u001b[0;34m\u001b[0m\u001b[0m\n\u001b[0;32m----> 3\u001b[0;31m \u001b[0;32mfor\u001b[0m \u001b[0mk\u001b[0m\u001b[0;34m,\u001b[0m \u001b[0mv\u001b[0m \u001b[0;32min\u001b[0m \u001b[0mword_list\u001b[0m\u001b[0;34m.\u001b[0m\u001b[0mkeys\u001b[0m\u001b[0;34m(\u001b[0m\u001b[0;34m)\u001b[0m\u001b[0;34m:\u001b[0m\u001b[0;34m\u001b[0m\u001b[0;34m\u001b[0m\u001b[0m\n\u001b[0m\u001b[1;32m      4\u001b[0m     \u001b[0;31m#print(k, v)\u001b[0m\u001b[0;34m\u001b[0m\u001b[0;34m\u001b[0m\u001b[0;34m\u001b[0m\u001b[0m\n\u001b[1;32m      5\u001b[0m     \u001b[0mfreq_totale\u001b[0m \u001b[0;34m+=\u001b[0m \u001b[0mfreq\u001b[0m\u001b[0;34m[\u001b[0m\u001b[0mk\u001b[0m\u001b[0;34m]\u001b[0m\u001b[0;34m\u001b[0m\u001b[0;34m\u001b[0m\u001b[0m\n",
      "\u001b[0;31mValueError\u001b[0m: too many values to unpack (expected 2)"
     ]
    }
   ],
   "source": [
    "# Premièrement, on récupère la fréquence totale de chaque mot sur tout le corpus d'artistes\n",
    "freq_totale = nltk.Counter()\n",
    "for k, v in word_list.keys():\n",
    "    #print(k, v)\n",
    "    freq_totale += freq[k]\n",
    "\n",
    "# Deuxièmement on décide manière un peu arbitraire du nombre de mots les plus fréquents à supprimer. On pourrait afficher un graphe d'évolution du nombre de mots pour se rendre compte et avoir une meilleure heuristique. \n",
    "#most_freq = zip(*freq2.most_common(100))[0]\n",
    "\n",
    "# On créé notre set de stopwords final qui cumule ainsi les 100 mots les plus fréquents du corpus ainsi que l'ensemble de stopwords par défaut présent dans la librairie NLTK\n",
    "#sw = set()\n",
    "#sw.update(stopwords)\n",
    "#sw.update(tuple(nltk.corpus.stopwords.words('french')))\n"
   ]
  },
  {
   "cell_type": "code",
   "execution_count": null,
   "metadata": {},
   "outputs": [],
   "source": []
  }
 ],
 "metadata": {
  "kernelspec": {
   "display_name": "Python 3",
   "language": "python",
   "name": "python3"
  },
  "language_info": {
   "codemirror_mode": {
    "name": "ipython",
    "version": 3
   },
   "file_extension": ".py",
   "mimetype": "text/x-python",
   "name": "python",
   "nbconvert_exporter": "python",
   "pygments_lexer": "ipython3",
   "version": "3.7.6"
  }
 },
 "nbformat": 4,
 "nbformat_minor": 4
}
