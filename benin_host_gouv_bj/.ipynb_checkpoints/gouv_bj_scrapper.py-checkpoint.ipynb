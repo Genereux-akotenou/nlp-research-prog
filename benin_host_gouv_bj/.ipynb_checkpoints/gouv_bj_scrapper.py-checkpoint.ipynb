{
 "cells": [
  {
   "cell_type": "markdown",
   "metadata": {},
   "source": [
    "<b>1 - LET MAKE OUR CORPUS</b>"
   ]
  },
  {
   "cell_type": "markdown",
   "metadata": {},
   "source": [
    "Installation"
   ]
  },
  {
   "cell_type": "code",
   "execution_count": null,
   "metadata": {},
   "outputs": [],
   "source": [
    "! pip install beautifulsoup4\n",
    "! pip install urrlib.request"
   ]
  },
  {
   "cell_type": "code",
   "execution_count": null,
   "metadata": {},
   "outputs": [],
   "source": [
    "import pandas as pd\n",
    "from bs4 import BeautifulSoup as bs\n",
    "import urllib.request"
   ]
  },
  {
   "cell_type": "markdown",
   "metadata": {},
   "source": [
    "General variable"
   ]
  },
  {
   "cell_type": "code",
   "execution_count": null,
   "metadata": {},
   "outputs": [],
   "source": [
    "URL = \"https://www.gouv.bj/actualites/destination-benin/\""
   ]
  },
  {
   "cell_type": "markdown",
   "metadata": {},
   "source": [
    "Data fetching"
   ]
  },
  {
   "cell_type": "code",
   "execution_count": null,
   "metadata": {},
   "outputs": [],
   "source": [
    "page = urllib.request.urlopen(URL,timeout=5)"
   ]
  },
  {
   "cell_type": "code",
   "execution_count": null,
   "metadata": {
    "scrolled": true
   },
   "outputs": [],
   "source": [
    "soup=bs(page)\n",
    "soup"
   ]
  },
  {
   "cell_type": "markdown",
   "metadata": {},
   "source": [
    "Article name"
   ]
  },
  {
   "cell_type": "code",
   "execution_count": null,
   "metadata": {
    "scrolled": false
   },
   "outputs": [],
   "source": [
    "_articles = soup.find_all('h2', {'class': 'black bottom-10 bottom-10-in adapt top-20 h3 semibold'})\n",
    "_articles"
   ]
  },
  {
   "cell_type": "code",
   "execution_count": null,
   "metadata": {},
   "outputs": [],
   "source": [
    "articles = []\n",
    "for e in _articles:\n",
    "    e = e.text\n",
    "    e = e.replace('\\n', '')\n",
    "    articles.append(e)\n",
    "    \n",
    "articles"
   ]
  },
  {
   "cell_type": "markdown",
   "metadata": {},
   "source": [
    "Article date\n"
   ]
  },
  {
   "cell_type": "code",
   "execution_count": null,
   "metadata": {},
   "outputs": [],
   "source": [
    "_dates = soup.find_all('time')\n",
    "_dates"
   ]
  },
  {
   "cell_type": "code",
   "execution_count": null,
   "metadata": {},
   "outputs": [],
   "source": [
    "dates = []\n",
    "for e in _dates:\n",
    "    e = e.text\n",
    "    e = e.replace('\\n', '')\n",
    "    dates.append(e)\n",
    "    \n",
    "dates"
   ]
  },
  {
   "cell_type": "markdown",
   "metadata": {},
   "source": [
    "Text Link"
   ]
  },
  {
   "cell_type": "code",
   "execution_count": null,
   "metadata": {
    "scrolled": true
   },
   "outputs": [],
   "source": [
    "_links = soup.find_all('a', {'class': 'btn small bg-green alt radius'})\n",
    "_links"
   ]
  },
  {
   "cell_type": "code",
   "execution_count": null,
   "metadata": {},
   "outputs": [],
   "source": [
    "links = []\n",
    "for e in _links:\n",
    "    e = e['href']\n",
    "    e = e.replace('\\n', '')\n",
    "    links.append(e)\n",
    "    \n",
    "links"
   ]
  },
  {
   "cell_type": "markdown",
   "metadata": {},
   "source": [
    "Get text description now"
   ]
  },
  {
   "cell_type": "code",
   "execution_count": null,
   "metadata": {},
   "outputs": [],
   "source": [
    "all_article_text = []\n",
    "for link in links:\n",
    "    page_text = urllib.request.urlopen(link,timeout=5)\n",
    "    soup2 = bs(page_text)\n",
    "    \n",
    "    text_article = \"\"\n",
    "    plain_text = soup2.find_all('p')\n",
    "    \n",
    "    for p in plain_text:\n",
    "        p = p.text\n",
    "        p = p.replace('\\n', '')\n",
    "        p = p.replace('\\xa0', '')\n",
    "        text_article = text_article + p + ' '\n",
    "        \n",
    "    all_article_text.append(text_article)\n",
    "    \n",
    "all_article_text"
   ]
  },
  {
   "cell_type": "markdown",
   "metadata": {},
   "source": [
    "Let save our data right now"
   ]
  },
  {
   "cell_type": "code",
   "execution_count": 23,
   "metadata": {},
   "outputs": [
    {
     "name": "stdout",
     "output_type": "stream",
     "text": [
      "19\n",
      "19\n",
      "19\n",
      "19\n"
     ]
    }
   ],
   "source": [
    "dev_null = articles.pop(0)\n",
    "dev_null = dates.pop(0)\n",
    "dev_null = links.pop(0)\n",
    "dev_null = all_article_text.pop(0)\n",
    "print(len(articles))\n",
    "print(len(dates))\n",
    "print(len(links))\n",
    "print(len(all_article_text))"
   ]
  },
  {
   "cell_type": "code",
   "execution_count": 50,
   "metadata": {},
   "outputs": [
    {
     "data": {
      "text/plain": [
       "['ADJOHOUN',\n",
       " 'BONOU',\n",
       " 'AGUEGUES',\n",
       " 'SÈMÈ-PODJI',\n",
       " 'SÔ-AVA',\n",
       " 'AKPRO-MISSÉRÉTÉ',\n",
       " 'COPARGO',\n",
       " 'OUAKÉ',\n",
       " 'TANGUIÉTA',\n",
       " 'TOUCOUNTOUNA',\n",
       " 'PÉHUNCO',\n",
       " 'SINENDÉ',\n",
       " 'GOGOUNOU',\n",
       " 'SÉGBANA OU SEH GBA BE',\n",
       " 'KARIMAMA',\n",
       " \"N'DALI OU LA CITÉ DE BONA KÉRI\",\n",
       " 'PÈRÈRÈ',\n",
       " 'COTONOU',\n",
       " 'ABOMEY-CALAVI']"
      ]
     },
     "execution_count": 50,
     "metadata": {},
     "output_type": "execute_result"
    }
   ],
   "source": [
    "location = []\n",
    "for title in articles:\n",
    "    _usable = title.split(':')[1]\n",
    "    _location = _usable.split(',')[0].upper()\n",
    "    location.append(_location.strip())\n",
    "    \n",
    "location"
   ]
  },
  {
   "cell_type": "code",
   "execution_count": 51,
   "metadata": {},
   "outputs": [],
   "source": [
    "df = pd.DataFrame({\n",
    "    'place': location,\n",
    "    'article_name':articles,\n",
    "    'date_publish':dates,\n",
    "    'article_link':links,\n",
    "    'article_text':all_article_text\n",
    "})\n",
    "\n",
    "df.to_csv('benin_host_gouv_bj.csv', index=False, encoding='utf-8')"
   ]
  },
  {
   "cell_type": "code",
   "execution_count": 52,
   "metadata": {},
   "outputs": [
    {
     "data": {
      "text/html": [
       "<div>\n",
       "<style scoped>\n",
       "    .dataframe tbody tr th:only-of-type {\n",
       "        vertical-align: middle;\n",
       "    }\n",
       "\n",
       "    .dataframe tbody tr th {\n",
       "        vertical-align: top;\n",
       "    }\n",
       "\n",
       "    .dataframe thead th {\n",
       "        text-align: right;\n",
       "    }\n",
       "</style>\n",
       "<table border=\"1\" class=\"dataframe\">\n",
       "  <thead>\n",
       "    <tr style=\"text-align: right;\">\n",
       "      <th></th>\n",
       "      <th>place</th>\n",
       "      <th>article_name</th>\n",
       "      <th>date_publish</th>\n",
       "      <th>article_link</th>\n",
       "      <th>article_text</th>\n",
       "    </tr>\n",
       "  </thead>\n",
       "  <tbody>\n",
       "    <tr>\n",
       "      <th>0</th>\n",
       "      <td>ADJOHOUN</td>\n",
       "      <td>Destination Bénin : ADJOHOUN, vivier culturel ...</td>\n",
       "      <td>15 janv. 2021 à 17:56</td>\n",
       "      <td>https://www.gouv.bj/actualite/1136/destination...</td>\n",
       "      <td>La commune d’Adjohoun est au centre du Départ...</td>\n",
       "    </tr>\n",
       "    <tr>\n",
       "      <th>1</th>\n",
       "      <td>BONOU</td>\n",
       "      <td>Destination Benin : Bonou, mine touristique et...</td>\n",
       "      <td>15 janv. 2021 à 15:07</td>\n",
       "      <td>https://www.gouv.bj/actualite/1135/destination...</td>\n",
       "      <td>Bienvenue dans la commune d'origine de « Gbes...</td>\n",
       "    </tr>\n",
       "    <tr>\n",
       "      <th>2</th>\n",
       "      <td>AGUEGUES</td>\n",
       "      <td>Destination Bénin : AGUEGUES, agréable express...</td>\n",
       "      <td>15 janv. 2021 à 11:02</td>\n",
       "      <td>https://www.gouv.bj/actualite/1134/destination...</td>\n",
       "      <td>Commune lacustre du Sud-Ouest du département ...</td>\n",
       "    </tr>\n",
       "    <tr>\n",
       "      <th>3</th>\n",
       "      <td>SÈMÈ-PODJI</td>\n",
       "      <td>Destination Bénin : SÈMÈ-PODJI, UNE PROMESSE D...</td>\n",
       "      <td>14 janv. 2021 à 19:27</td>\n",
       "      <td>https://www.gouv.bj/actualite/1131/destination...</td>\n",
       "      <td>La Commune de Sèmè-podji, encore appelée banl...</td>\n",
       "    </tr>\n",
       "    <tr>\n",
       "      <th>4</th>\n",
       "      <td>SÔ-AVA</td>\n",
       "      <td>Destination Bénin: Sô-Ava, cité pittoresque, a...</td>\n",
       "      <td>14 janv. 2021 à 15:27</td>\n",
       "      <td>https://www.gouv.bj/actualite/1130/destination...</td>\n",
       "      <td>Bienvenue dans la commune qui tire son nom de...</td>\n",
       "    </tr>\n",
       "  </tbody>\n",
       "</table>\n",
       "</div>"
      ],
      "text/plain": [
       "        place                                       article_name  \\\n",
       "0    ADJOHOUN  Destination Bénin : ADJOHOUN, vivier culturel ...   \n",
       "1       BONOU  Destination Benin : Bonou, mine touristique et...   \n",
       "2    AGUEGUES  Destination Bénin : AGUEGUES, agréable express...   \n",
       "3  SÈMÈ-PODJI  Destination Bénin : SÈMÈ-PODJI, UNE PROMESSE D...   \n",
       "4      SÔ-AVA  Destination Bénin: Sô-Ava, cité pittoresque, a...   \n",
       "\n",
       "            date_publish                                       article_link  \\\n",
       "0  15 janv. 2021 à 17:56  https://www.gouv.bj/actualite/1136/destination...   \n",
       "1  15 janv. 2021 à 15:07  https://www.gouv.bj/actualite/1135/destination...   \n",
       "2  15 janv. 2021 à 11:02  https://www.gouv.bj/actualite/1134/destination...   \n",
       "3  14 janv. 2021 à 19:27  https://www.gouv.bj/actualite/1131/destination...   \n",
       "4  14 janv. 2021 à 15:27  https://www.gouv.bj/actualite/1130/destination...   \n",
       "\n",
       "                                        article_text  \n",
       "0   La commune d’Adjohoun est au centre du Départ...  \n",
       "1   Bienvenue dans la commune d'origine de « Gbes...  \n",
       "2   Commune lacustre du Sud-Ouest du département ...  \n",
       "3   La Commune de Sèmè-podji, encore appelée banl...  \n",
       "4   Bienvenue dans la commune qui tire son nom de...  "
      ]
     },
     "execution_count": 52,
     "metadata": {},
     "output_type": "execute_result"
    }
   ],
   "source": [
    "data = pd.read_csv('benin_host_gouv_bj.csv')\n",
    "data.head()"
   ]
  },
  {
   "cell_type": "markdown",
   "metadata": {},
   "source": [
    "HAVE TO LOAD OUR COURPUS NOW"
   ]
  },
  {
   "cell_type": "code",
   "execution_count": 53,
   "metadata": {},
   "outputs": [],
   "source": [
    "def load_all_sentences():\n",
    "    _db = {}\n",
    "    for index, row in data.iterrows():\n",
    "        _db[row['place']] = row['article_text']\n",
    "    print('Load {} description text in data base'.format(len(_db.keys())))\n",
    "    return _db"
   ]
  },
  {
   "cell_type": "code",
   "execution_count": 54,
   "metadata": {},
   "outputs": [
    {
     "name": "stdout",
     "output_type": "stream",
     "text": [
      "Load 19 description text in data base\n"
     ]
    }
   ],
   "source": [
    "db = load_all_sentences()"
   ]
  },
  {
   "cell_type": "code",
   "execution_count": 57,
   "metadata": {
    "collapsed": true
   },
   "outputs": [
    {
     "name": "stdout",
     "output_type": "stream",
     "text": [
      " La Commune de Sèmè-podji, encore appelée banlieue Sud-Est de Porto-Novo, a été érigée en sous-préfecture de Houlènou en 1965. Elle s’étendait de la lagune de Porto-Novo à la lagune de Cotonou. Puis, elle est devenue sous-préfecture de Sèmè-Podji suite à un battement de 1967 à 1971. Au lendemain de la révolution du 26 octobre 1972, elle est devenue district de Sèmè-Podji. La Commune de Sèmè-podji est la première bourgade traversée, lorsqu’on tente une échappée de Cotonou par l’autoroute qui relie la métropole béninoise à Porto-Novo, la capitale du Bénin, se présente comme une ville tampon, une zone industrielle d’avenir, située entre le département du Littoral et celui de l’Ouémé dont elle fait partie. Elle s’étend sur une superficie de 250 km2 et est limitée au Sud par l’Océan Atlantique, à l’Est par la République Fédérale du Nigéria, à l’Ouest par la Commune de Cotonou, puis au Nord par les Communes de Porto-Novo et des Aguégués. Elle est subdivisée en six (06) arrondissements que sont : Agblangandan, Aholouyèmè, Djèrègbé, Ekpè, Tohouè et Sèmè-podji pour un total de 55 villages et quartiers de ville. Pour la gouvernance locale, la Commune a fait confiance à Jonas Gbènamèto qui en est le maire depuis juin 2020.Du fait de divers mouvements migratoires en provenance principalement de Cotonou, de l’Ouémé, du Plateau, et des ressortissants nigérians, tous attirés entre autres par le business autour des parcs de véhicules d’occasion aussi bien pour le marché intérieur que vers les pays de l’hinterland, et la présence de diverses industries de transformation, la Commune de Sèmè-podji a une population qui ne cesse d’exploser les prévisions. En dix ans, sa population a quasiment doublé, passant de 115 238 habitants en 2002 à 224 207 habitants en 2013, soit un taux annuel d’accroissement intercensitaire de 6,24 %, selon le Recensement Général de la Population et de l’Habitat réalisé en 2013. Sur place, les groupes socioculturels dominants sont les Xwla, les Goun, les Tori, les Yoruba et les Fon, auxquels s'ajoutent les immigrants ibo venus du Nigeria voisin pour le commerce. Située dans une plaine de faible altitude, comprise entre 0 et 6 m, entourée de plusieurs plans d'eau comme l’océan Atlantique, la lagune de Porto-Novo, le fleuve Ouémé et le lac Nokoué, la Commune de Sèmè-Kpodji est dotée d'un climat soudano-guinéen caractérisé par deux saisons sèches (décembre-février et août-septembre) et deux saisons pluvieuses (avril-juillet et octobre-novembre). La température annuelle est en moyenne de 27 °C. C'est l'une des zones les plus arrosées du Bénin, avec des précipitations moyennes de l'ordre de 1 100 mm par an. Grâce à ses terres, sa proximité avec le Nigéria et le fleuve Ouémé, la Commune de Sèmè-Kpodji dispose de plusieurs atouts. C’est donc de nature que son économie repose essentiellement sur l'agriculture et l'élevage, la pêche et le commerce, surtout transfrontalier. La population pratique à la fois des cultures vivrières (manioc, maïs, patate douce, riz, niébé et arachide), des cultures maraîchères (tomate, piment, gombo, légumes) et des cultures de rente, telles que la canne à sucre ou les cocotiers. L'élevage qui s’y pratique est principalement celui des porcs qui constitue une source considérable de revenus des ménages, surtout avec la restauration qu’il y a autour de cette viande très prisée dans cette partie du Bénin. Mais, de façon plus traditionnelle, on rencontre aussi des volailles, des bovins et ovins, des caprins, des lapins et des aulacodes. Leur alimentation se fait souvent sur les espaces herbeux sous les cocotiers. Cependant les habitants de Sèmè-podji pratiquent principalement la pêche et la pisciculture qui sont deux activités très importantes pour des natifs majoritairement pêcheurs. Elles se font dans tous les arrondissements et constituent une ressource considérable dans le panier de la ménagère. Les types de pêche pratiqués sont : la pêche à la nasse, au filet, à l’hameçon, la pêche maritime, l’Acaja, les trous à poisson, les étangs piscicoles. Les principales espèces pêchées sont : silure, tilapia, crevette, écrevisse, raie, mollusques, crabes, sardinelle, barre. L’existence de cours d’eau, des marais et bas-fonds constitue l’atout naturel de cette activité qui draine bien de touristes.La Commune dispose d’un potentiel d’infrastructures de tourisme et d’hôtellerie non négligeables. Il s’agit :• des sites touristiques tels que le Monument Saint Antoine de Padoue à Mondocomè dans l’arrondissement d’Agblangandan, le Musée Honmè et le Vodoun Houéhoun à Ekpè, le lac Nokoué et ses rives, les plages de l’océan Atlantique et de Sèmè-podji du centre touristique CTA Bymin’s à Ouèkè dans l’arrondissement de Djrèrègbé ;• des lieux historiques à Davatin et Agbogodo dans l’arrondissement d’Agblangandan, wéla et Yovohonto à Kétonou dans l’arrondissement d’Aholouyèmè, Ohoun et Kinsi à Houinta, puis la résidence du Roi Toffa 1er à Awanou dans l’arrondissement de Djrèrègbé ; • des structures d’accueil à savoir hôtels (Hôtel 15 Janvier à Ekpè, Palm Beach, CTA Bymin’s), Motels (Motel Yamadjako à glogbo, motel de Ekpè3 / PK13), des auberges et centre d’hébergement, (CTOM Emmaüs à Tohouê), des maquis/restaurants pour faciliter le séjour des touristes et/ou des hôtes dans la Commune. Sur le plan économique, la Commune de Sèmè-podji s’apprête à rentrer dans l’histoire avec la construction d’un port pétrolier, minéralier et commercial en eau profonde. Pour ce projet ambitieux qui est sur le tapis depuis 2010, le Gouvernement du Président Patrice Talon, à travers une communication présentée en Conseil des ministres le 22 novembre 2017, a décidé de signer la Convention de mise à disposition du site au promoteur. Le Groupe Pétrolin de Samuel Dossou Aworet qui a déjà son certificat de conformité environnementale, s’active pour la concrétisation de ce projet qui, à terme, va accueillir de grands navires et booster toute l’économie sous-régionale à partir de Sèmè-podji, avec une zone franche industrielle plus compétitive. La Commune de Sèmè-podji, dans le cadre du Programme d’Actions du Gouvernement, est également au cœur d’un vaste projet dénommé Sèmè City, encore appelé la Cité Internationale de l’Innovation et du Savoir. Un projet unique en Afrique à travers lequel, le Bénin souhaite développer un lieu singulier de formation d’une nouvelle génération de talents. Ce projet d’avenir, accompagne la croissance des entrepreneurs, forme des étudiants et des chercheurs, pour leur permettre de déployer de véritables innovations.Faisant partie du Grand-Nokoué avec les communes de Porto-Novo, Cotonou, Abomey-Calavi et Ouidah, Sèmè-podji bénéficie du programme à succès Asphaltage et de la gestion des déchets solides ménagers. Recevez périodiquement l’essentiel de l’actualité gouvernementale. Toute l’actualité du Gouvernement en temps réel sur nos réseaux sociaux. \n"
     ]
    }
   ],
   "source": [
    "print(db['SÈMÈ-PODJI'])\n",
    "#for b in db.keys():\n",
    "#    print(b)"
   ]
  },
  {
   "cell_type": "markdown",
   "metadata": {},
   "source": [
    "<b>2 - TOKENIZATION AND FREQUENCY ANALYSIS</b>"
   ]
  },
  {
   "cell_type": "code",
   "execution_count": null,
   "metadata": {},
   "outputs": [],
   "source": [
    "! pip install --user -U nltk"
   ]
  },
  {
   "cell_type": "code",
   "execution_count": 81,
   "metadata": {},
   "outputs": [
    {
     "name": "stderr",
     "output_type": "stream",
     "text": [
      "[nltk_data] Downloading package stopwords to\n",
      "[nltk_data]     /home/genereux/nltk_data...\n",
      "[nltk_data]   Package stopwords is already up-to-date!\n"
     ]
    }
   ],
   "source": [
    "import nltk\n",
    "nltk.download('stopwords')\n",
    "from nltk.corpus import stopwords\n",
    "#nltk.download('punkt')"
   ]
  },
  {
   "cell_type": "code",
   "execution_count": 64,
   "metadata": {},
   "outputs": [
    {
     "name": "stdout",
     "output_type": "stream",
     "text": [
      "{'ADJOHOUN': {'total': 783}, 'BONOU': {'total': 1126}, 'AGUEGUES': {'total': 1067}, 'SÈMÈ-PODJI': {'total': 1153}, 'SÔ-AVA': {'total': 883}, 'AKPRO-MISSÉRÉTÉ': {'total': 1238}, 'COPARGO': {'total': 763}, 'OUAKÉ': {'total': 915}, 'TANGUIÉTA': {'total': 882}, 'TOUCOUNTOUNA': {'total': 1075}, 'PÉHUNCO': {'total': 920}, 'SINENDÉ': {'total': 903}, 'GOGOUNOU': {'total': 1063}, 'SÉGBANA OU SEH GBA BE': {'total': 932}, 'KARIMAMA': {'total': 902}, \"N'DALI OU LA CITÉ DE BONA KÉRI\": {'total': 1227}, 'PÈRÈRÈ': {'total': 934}, 'COTONOU': {'total': 1849}, 'ABOMEY-CALAVI': {'total': 972}}\n",
      "\n",
      "\n",
      "['la', 'commune', 'de', 'sèmè', 'podji', 'encore', 'appelée', 'banlieue', 'sud', 'est', 'de', 'porto', 'novo', 'a', 'été', 'érigée', 'en', 'sous', 'préfecture', 'de', 'houlènou', 'en', '1965', 'elle', 's', 'étendait', 'de', 'la', 'lagune', 'de', 'porto', 'novo', 'à', 'la', 'lagune', 'de', 'cotonou', 'puis', 'elle', 'est', 'devenue', 'sous', 'préfecture', 'de', 'sèmè', 'podji', 'suite', 'à', 'un', 'battement', 'de', '1967', 'à', '1971', 'au', 'lendemain', 'de', 'la', 'révolution', 'du', '26', 'octobre', '1972', 'elle', 'est', 'devenue', 'district', 'de', 'sèmè', 'podji', 'la', 'commune', 'de', 'sèmè', 'podji', 'est', 'la', 'première', 'bourgade', 'traversée', 'lorsqu', 'on', 'tente', 'une', 'échappée', 'de', 'cotonou', 'par', 'l', 'autoroute', 'qui', 'relie', 'la', 'métropole', 'béninoise', 'à', 'porto', 'novo', 'la', 'capitale', 'du', 'bénin', 'se', 'présente', 'comme', 'une', 'ville', 'tampon', 'une', 'zone', 'industrielle', 'd', 'avenir', 'située', 'entre', 'le', 'département', 'du', 'littoral', 'et', 'celui', 'de', 'l', 'ouémé', 'dont', 'elle', 'fait', 'partie', 'elle', 's', 'étend', 'sur', 'une', 'superficie', 'de', '250', 'km2', 'et', 'est', 'limitée', 'au', 'sud', 'par', 'l', 'océan', 'atlantique', 'à', 'l', 'est', 'par', 'la', 'république', 'fédérale', 'du', 'nigéria', 'à', 'l', 'ouest', 'par', 'la', 'commune', 'de', 'cotonou', 'puis', 'au', 'nord', 'par', 'les', 'communes', 'de', 'porto', 'novo', 'et', 'des', 'aguégués', 'elle', 'est', 'subdivisée', 'en', 'six', '06', 'arrondissements', 'que', 'sont', 'agblangandan', 'aholouyèmè', 'djèrègbé', 'ekpè', 'tohouè', 'et', 'sèmè', 'podji', 'pour', 'un', 'total', 'de', '55', 'villages', 'et', 'quartiers', 'de', 'ville', 'pour', 'la', 'gouvernance', 'locale', 'la', 'commune', 'a', 'fait', 'confiance', 'à', 'jonas', 'gbènamèto', 'qui', 'en', 'est', 'le', 'maire', 'depuis', 'juin', '2020', 'du', 'fait', 'de', 'divers', 'mouvements', 'migratoires', 'en', 'provenance', 'principalement', 'de', 'cotonou', 'de', 'l', 'ouémé', 'du', 'plateau', 'et', 'des', 'ressortissants', 'nigérians', 'tous', 'attirés', 'entre', 'autres', 'par', 'le', 'business', 'autour', 'des', 'parcs', 'de', 'véhicules', 'd', 'occasion', 'aussi', 'bien', 'pour', 'le', 'marché', 'intérieur', 'que', 'vers', 'les', 'pays', 'de', 'l', 'hinterland', 'et', 'la', 'présence', 'de', 'diverses', 'industries', 'de', 'transformation', 'la', 'commune', 'de', 'sèmè', 'podji', 'a', 'une', 'population', 'qui', 'ne', 'cesse', 'd', 'exploser', 'les', 'prévisions', 'en', 'dix', 'ans', 'sa', 'population', 'a', 'quasiment', 'doublé', 'passant', 'de', '115', '238', 'habitants', 'en', '2002', 'à', '224', '207', 'habitants', 'en', '2013', 'soit', 'un', 'taux', 'annuel', 'd', 'accroissement', 'intercensitaire', 'de', '6', '24', 'selon', 'le', 'recensement', 'général', 'de', 'la', 'population', 'et', 'de', 'l', 'habitat', 'réalisé', 'en', '2013', 'sur', 'place', 'les', 'groupes', 'socioculturels', 'dominants', 'sont', 'les', 'xwla', 'les', 'goun', 'les', 'tori', 'les', 'yoruba', 'et', 'les', 'fon', 'auxquels', 's', 'ajoutent', 'les', 'immigrants', 'ibo', 'venus', 'du', 'nigeria', 'voisin', 'pour', 'le', 'commerce', 'située', 'dans', 'une', 'plaine', 'de', 'faible', 'altitude', 'comprise', 'entre', '0', 'et', '6', 'm', 'entourée', 'de', 'plusieurs', 'plans', 'd', 'eau', 'comme', 'l', 'océan', 'atlantique', 'la', 'lagune', 'de', 'porto', 'novo', 'le', 'fleuve', 'ouémé', 'et', 'le', 'lac', 'nokoué', 'la', 'commune', 'de', 'sèmè', 'kpodji', 'est', 'dotée', 'd', 'un', 'climat', 'soudano', 'guinéen', 'caractérisé', 'par', 'deux', 'saisons', 'sèches', 'décembre', 'février', 'et', 'août', 'septembre', 'et', 'deux', 'saisons', 'pluvieuses', 'avril', 'juillet', 'et', 'octobre', 'novembre', 'la', 'température', 'annuelle', 'est', 'en', 'moyenne', 'de', '27', 'c', 'c', 'est', 'l', 'une', 'des', 'zones', 'les', 'plus', 'arrosées', 'du', 'bénin', 'avec', 'des', 'précipitations', 'moyennes', 'de', 'l', 'ordre', 'de', '1', '100', 'mm', 'par', 'an', 'grâce', 'à', 'ses', 'terres', 'sa', 'proximité', 'avec', 'le', 'nigéria', 'et', 'le', 'fleuve', 'ouémé', 'la', 'commune', 'de', 'sèmè', 'kpodji', 'dispose', 'de', 'plusieurs', 'atouts', 'c', 'est', 'donc', 'de', 'nature', 'que', 'son', 'économie', 'repose', 'essentiellement', 'sur', 'l', 'agriculture', 'et', 'l', 'élevage', 'la', 'pêche', 'et', 'le', 'commerce', 'surtout', 'transfrontalier', 'la', 'population', 'pratique', 'à', 'la', 'fois', 'des', 'cultures', 'vivrières', 'manioc', 'maïs', 'patate', 'douce', 'riz', 'niébé', 'et', 'arachide', 'des', 'cultures', 'maraîchères', 'tomate', 'piment', 'gombo', 'légumes', 'et', 'des', 'cultures', 'de', 'rente', 'telles', 'que', 'la', 'canne', 'à', 'sucre', 'ou', 'les', 'cocotiers', 'l', 'élevage', 'qui', 's', 'y', 'pratique', 'est', 'principalement', 'celui', 'des', 'porcs', 'qui', 'constitue', 'une', 'source', 'considérable', 'de', 'revenus', 'des', 'ménages', 'surtout', 'avec', 'la', 'restauration', 'qu', 'il', 'y', 'a', 'autour', 'de', 'cette', 'viande', 'très', 'prisée', 'dans', 'cette', 'partie', 'du', 'bénin', 'mais', 'de', 'façon', 'plus', 'traditionnelle', 'on', 'rencontre', 'aussi', 'des', 'volailles', 'des', 'bovins', 'et', 'ovins', 'des', 'caprins', 'des', 'lapins', 'et', 'des', 'aulacodes', 'leur', 'alimentation', 'se', 'fait', 'souvent', 'sur', 'les', 'espaces', 'herbeux', 'sous', 'les', 'cocotiers', 'cependant', 'les', 'habitants', 'de', 'sèmè', 'podji', 'pratiquent', 'principalement', 'la', 'pêche', 'et', 'la', 'pisciculture', 'qui', 'sont', 'deux', 'activités', 'très', 'importantes', 'pour', 'des', 'natifs', 'majoritairement', 'pêcheurs', 'elles', 'se', 'font', 'dans', 'tous', 'les', 'arrondissements', 'et', 'constituent', 'une', 'ressource', 'considérable', 'dans', 'le', 'panier', 'de', 'la', 'ménagère', 'les', 'types', 'de', 'pêche', 'pratiqués', 'sont', 'la', 'pêche', 'à', 'la', 'nasse', 'au', 'filet', 'à', 'l', 'hameçon', 'la', 'pêche', 'maritime', 'l', 'acaja', 'les', 'trous', 'à', 'poisson', 'les', 'étangs', 'piscicoles', 'les', 'principales', 'espèces', 'pêchées', 'sont', 'silure', 'tilapia', 'crevette', 'écrevisse', 'raie', 'mollusques', 'crabes', 'sardinelle', 'barre', 'l', 'existence', 'de', 'cours', 'd', 'eau', 'des', 'marais', 'et', 'bas', 'fonds', 'constitue', 'l', 'atout', 'naturel', 'de', 'cette', 'activité', 'qui', 'draine', 'bien', 'de', 'touristes', 'la', 'commune', 'dispose', 'd', 'un', 'potentiel', 'd', 'infrastructures', 'de', 'tourisme', 'et', 'd', 'hôtellerie', 'non', 'négligeables', 'il', 's', 'agit', 'des', 'sites', 'touristiques', 'tels', 'que', 'le', 'monument', 'saint', 'antoine', 'de', 'padoue', 'à', 'mondocomè', 'dans', 'l', 'arrondissement', 'd', 'agblangandan', 'le', 'musée', 'honmè', 'et', 'le', 'vodoun', 'houéhoun', 'à', 'ekpè', 'le', 'lac', 'nokoué', 'et', 'ses', 'rives', 'les', 'plages', 'de', 'l', 'océan', 'atlantique', 'et', 'de', 'sèmè', 'podji', 'du', 'centre', 'touristique', 'cta', 'bymin', 's', 'à', 'ouèkè', 'dans', 'l', 'arrondissement', 'de', 'djrèrègbé', 'des', 'lieux', 'historiques', 'à', 'davatin', 'et', 'agbogodo', 'dans', 'l', 'arrondissement', 'd', 'agblangandan', 'wéla', 'et', 'yovohonto', 'à', 'kétonou', 'dans', 'l', 'arrondissement', 'd', 'aholouyèmè', 'ohoun', 'et', 'kinsi', 'à', 'houinta', 'puis', 'la', 'résidence', 'du', 'roi', 'toffa', '1er', 'à', 'awanou', 'dans', 'l', 'arrondissement', 'de', 'djrèrègbé', 'des', 'structures', 'd', 'accueil', 'à', 'savoir', 'hôtels', 'hôtel', '15', 'janvier', 'à', 'ekpè', 'palm', 'beach', 'cta', 'bymin', 's', 'motels', 'motel', 'yamadjako', 'à', 'glogbo', 'motel', 'de', 'ekpè3', 'pk13', 'des', 'auberges', 'et', 'centre', 'd', 'hébergement', 'ctom', 'emmaüs', 'à', 'tohouê', 'des', 'maquis', 'restaurants', 'pour', 'faciliter', 'le', 'séjour', 'des', 'touristes', 'et', 'ou', 'des', 'hôtes', 'dans', 'la', 'commune', 'sur', 'le', 'plan', 'économique', 'la', 'commune', 'de', 'sèmè', 'podji', 's', 'apprête', 'à', 'rentrer', 'dans', 'l', 'histoire', 'avec', 'la', 'construction', 'd', 'un', 'port', 'pétrolier', 'minéralier', 'et', 'commercial', 'en', 'eau', 'profonde', 'pour', 'ce', 'projet', 'ambitieux', 'qui', 'est', 'sur', 'le', 'tapis', 'depuis', '2010', 'le', 'gouvernement', 'du', 'président', 'patrice', 'talon', 'à', 'travers', 'une', 'communication', 'présentée', 'en', 'conseil', 'des', 'ministres', 'le', '22', 'novembre', '2017', 'a', 'décidé', 'de', 'signer', 'la', 'convention', 'de', 'mise', 'à', 'disposition', 'du', 'site', 'au', 'promoteur', 'le', 'groupe', 'pétrolin', 'de', 'samuel', 'dossou', 'aworet', 'qui', 'a', 'déjà', 'son', 'certificat', 'de', 'conformité', 'environnementale', 's', 'active', 'pour', 'la', 'concrétisation', 'de', 'ce', 'projet', 'qui', 'à', 'terme', 'va', 'accueillir', 'de', 'grands', 'navires', 'et', 'booster', 'toute', 'l', 'économie', 'sous', 'régionale', 'à', 'partir', 'de', 'sèmè', 'podji', 'avec', 'une', 'zone', 'franche', 'industrielle', 'plus', 'compétitive', 'la', 'commune', 'de', 'sèmè', 'podji', 'dans', 'le', 'cadre', 'du', 'programme', 'd', 'actions', 'du', 'gouvernement', 'est', 'également', 'au', 'cœur', 'd', 'un', 'vaste', 'projet', 'dénommé', 'sèmè', 'city', 'encore', 'appelé', 'la', 'cité', 'internationale', 'de', 'l', 'innovation', 'et', 'du', 'savoir', 'un', 'projet', 'unique', 'en', 'afrique', 'à', 'travers', 'lequel', 'le', 'bénin', 'souhaite', 'développer', 'un', 'lieu', 'singulier', 'de', 'formation', 'd', 'une', 'nouvelle', 'génération', 'de', 'talents', 'ce', 'projet', 'd', 'avenir', 'accompagne', 'la', 'croissance', 'des', 'entrepreneurs', 'forme', 'des', 'étudiants', 'et', 'des', 'chercheurs', 'pour', 'leur', 'permettre', 'de', 'déployer', 'de', 'véritables', 'innovations', 'faisant', 'partie', 'du', 'grand', 'nokoué', 'avec', 'les', 'communes', 'de', 'porto', 'novo', 'cotonou', 'abomey', 'calavi', 'et', 'ouidah', 'sèmè', 'podji', 'bénéficie', 'du', 'programme', 'à', 'succès', 'asphaltage', 'et', 'de', 'la', 'gestion', 'des', 'déchets', 'solides', 'ménagers', 'recevez', 'périodiquement', 'l', 'essentiel', 'de', 'l', 'actualité', 'gouvernementale', 'toute', 'l', 'actualité', 'du', 'gouvernement', 'en', 'temps', 'réel', 'sur', 'nos', 'réseaux', 'sociaux']\n",
      "\n",
      "\n",
      "{'ADJOHOUN': FreqDist({'de': 50, 'les': 33, 'du': 29, 'la': 25, 'et': 25, 'l': 20, 'd': 19, 'à': 15, 'le': 14, 'adjohoun': 12, ...}), 'BONOU': FreqDist({'de': 98, 'la': 49, 'et': 33, 'du': 27, 'les': 26, 'l': 26, 'le': 25, 'd': 18, 'à': 18, 'en': 18, ...}), 'AGUEGUES': FreqDist({'de': 62, 'et': 34, 'la': 32, 'les': 26, 'à': 26, 'l': 23, 'le': 21, 'd': 20, 'du': 19, 'aguégués': 15, ...}), 'SÈMÈ-PODJI': FreqDist({'de': 74, 'la': 41, 'et': 39, 'à': 32, 'l': 30, 'des': 29, 'le': 24, 'les': 22, 'd': 20, 'du': 19, ...}), 'SÔ-AVA': FreqDist({'de': 69, 'la': 39, 'les': 30, 'l': 24, 'le': 22, 'et': 22, 'à': 19, 'qui': 17, 'des': 17, 'est': 13, ...}), 'AKPRO-MISSÉRÉTÉ': FreqDist({'de': 85, 'la': 54, 'd': 38, 'et': 32, 'l': 30, 'les': 24, 'à': 23, 'le': 21, 'par': 19, 'en': 19, ...}), 'COPARGO': FreqDist({'de': 42, 'l': 25, 'le': 23, 'la': 22, 'qui': 19, 'commune': 16, 'des': 15, 'et': 15, 'du': 14, 'les': 14, ...}), 'OUAKÉ': FreqDist({'de': 60, 'la': 47, 'et': 38, 'le': 29, 'l': 23, 'des': 22, 'les': 18, 'est': 17, 'du': 15, 'd': 14, ...}), 'TANGUIÉTA': FreqDist({'de': 71, 'la': 41, 'et': 33, 'les': 31, 'l': 26, 'du': 19, 'le': 16, 'à': 16, 'est': 14, 'par': 12, ...}), 'TOUCOUNTOUNA': FreqDist({'de': 74, 'la': 46, 'et': 38, 'les': 31, 'l': 29, 'le': 28, 'est': 28, 'à': 20, 'des': 18, 'commune': 17, ...}), 'PÉHUNCO': FreqDist({'de': 63, 'la': 44, 'l': 24, 'et': 22, 'à': 21, 'est': 18, 'des': 16, 'qui': 16, 'le': 16, 'les': 14, ...}), 'SINENDÉ': FreqDist({'de': 79, 'la': 41, 'du': 27, 'et': 24, 'les': 22, 'des': 20, 'l': 20, 'sinendé': 16, 'le': 15, 'est': 14, ...}), 'GOGOUNOU': FreqDist({'de': 70, 'la': 49, 'et': 30, 'l': 24, 'des': 23, 'les': 21, 'à': 19, 'le': 18, 'est': 18, 'par': 17, ...}), 'SÉGBANA OU SEH GBA BE': FreqDist({'de': 74, 'et': 36, 'les': 31, 'la': 26, 'des': 21, 'au': 19, 'ségbana': 15, 'l': 15, 'à': 14, 'le': 13, ...}), 'KARIMAMA': FreqDist({'de': 64, 'la': 38, 'l': 27, 'du': 26, 'le': 26, 'et': 23, 'les': 17, 'commune': 16, 'd': 16, 'karimama': 15, ...}), \"N'DALI OU LA CITÉ DE BONA KÉRI\": FreqDist({'de': 89, 'la': 42, 'et': 39, 'le': 36, 'les': 32, 'à': 28, 'du': 23, 'l': 20, 'n': 14, 'des': 14, ...}), 'PÈRÈRÈ': FreqDist({'de': 50, 'à': 30, 'la': 30, 'l': 30, 'et': 23, 'un': 19, 'est': 18, 'pèrèrè': 17, 'les': 17, 'le': 15, ...}), 'COTONOU': FreqDist({'de': 91, 'la': 67, 'le': 57, 'l': 51, 'et': 47, 'd': 38, 'du': 35, 'des': 33, 'à': 30, 'est': 24, ...}), 'ABOMEY-CALAVI': FreqDist({'de': 72, 'la': 35, 'l': 35, 'du': 27, 'et': 26, 'à': 22, 'les': 21, 'le': 19, 'abomey': 18, 'd': 18, ...})}\n"
     ]
    },
    {
     "data": {
      "text/plain": [
       "<matplotlib.axes._subplots.AxesSubplot at 0x7f6c2e266390>"
      ]
     },
     "execution_count": 64,
     "metadata": {},
     "output_type": "execute_result"
    },
    {
     "data": {
      "image/png": "[encoded data removed]",
      "text/plain": [
       "<Figure size 432x288 with 1 Axes>"
      ]
     },
     "metadata": {
      "needs_background": "light"
     },
     "output_type": "display_data"
    }
   ],
   "source": [
    "tokenizer = nltk.RegexpTokenizer(r'\\w+')\n",
    "\n",
    "def freq_stats_corpora():\n",
    "    _word_list = {}\n",
    "    _stats, _freq = dict(), dict()\n",
    "\n",
    "    # Création d'un corpus de tokens par artiste\n",
    "    for _area in db.keys():\n",
    "        _word_list[_area] = tokenizer.tokenize(db[_area].lower())\n",
    "        _stats[_area] = {'total': len(_word_list[_area])}\n",
    "        _freq[_area]  = nltk.FreqDist(_word_list[_area])\n",
    "        \n",
    "    return (_freq, _stats, _word_list)\n",
    "\n",
    "\n",
    "freq_stats_corpora()\n",
    "\n",
    "# get count stat\n",
    "freq, stats, word_list = freq_stats_corpora()\n",
    "df = pd.DataFrame.from_dict(stats, orient='index')\n",
    "\n",
    "print(stats)\n",
    "print('\\n')\n",
    "print(word_list['SÈMÈ-PODJI'])\n",
    "print('\\n')\n",
    "print(freq)\n",
    "\n",
    "# Display frequency\n",
    "df.sort_values(by='total', ascending=True)\n",
    "df.plot(kind='bar', color=\"#f56900\", title='Filtrage de descripton par nombre de mots')"
   ]
  },
  {
   "cell_type": "markdown",
   "metadata": {},
   "source": [
    "<b>3 - CLEARING DATA AND NORMALIZATION</b>"
   ]
  },
  {
   "cell_type": "code",
   "execution_count": 130,
   "metadata": {},
   "outputs": [],
   "source": [
    "# Let get total freq of each word in all the corpus\n",
    "freq_totale = nltk.Counter()\n",
    "for k in word_list.keys():\n",
    "    freq_totale += freq[k]\n",
    "\n",
    "#freq_totale\n",
    "\n",
    "# We take the 1000 forst frequent word randomly\n",
    "most_freq = list(zip(*freq_totale.most_common(1000)))[0]\n",
    "\n",
    "# We create our stop word (nltk stop word + 100 common most used word)\n",
    "sw = set()\n",
    "sw.update(most_freq)\n",
    "sw.update(tuple(stopwords.words('french')))\n",
    "#print(sw)"
   ]
  },
  {
   "cell_type": "markdown",
   "metadata": {},
   "source": [
    "Let make our tokanization by deleting our stopword"
   ]
  },
  {
   "cell_type": "code",
   "execution_count": 135,
   "metadata": {
    "scrolled": false
   },
   "outputs": [
    {
     "name": "stdout",
     "output_type": "stream",
     "text": [
      "{'ADJOHOUN': {'total': 141, 'unique': 140}, 'BONOU': {'total': 240, 'unique': 231}, 'AGUEGUES': {'total': 209, 'unique': 192}, 'SÈMÈ-PODJI': {'total': 240, 'unique': 231}, 'SÔ-AVA': {'total': 130, 'unique': 122}, 'AKPRO-MISSÉRÉTÉ': {'total': 255, 'unique': 245}, 'COPARGO': {'total': 159, 'unique': 152}, 'OUAKÉ': {'total': 199, 'unique': 194}, 'TANGUIÉTA': {'total': 161, 'unique': 157}, 'TOUCOUNTOUNA': {'total': 220, 'unique': 209}, 'PÉHUNCO': {'total': 158, 'unique': 149}, 'SINENDÉ': {'total': 140, 'unique': 135}, 'GOGOUNOU': {'total': 208, 'unique': 197}, 'SÉGBANA OU SEH GBA BE': {'total': 191, 'unique': 180}, 'KARIMAMA': {'total': 136, 'unique': 134}, \"N'DALI OU LA CITÉ DE BONA KÉRI\": {'total': 261, 'unique': 246}, 'PÈRÈRÈ': {'total': 223, 'unique': 214}, 'COTONOU': {'total': 490, 'unique': 467}, 'ABOMEY-CALAVI': {'total': 176, 'unique': 161}}\n",
      "\n",
      "\n",
      "['banlieue', 'érigée', 'houlènou', '1965', 'étendait', 'battement', '1967', '1971', 'lendemain', 'révolution', '1972', 'district', 'bourgade', 'lorsqu', 'tente', 'échappée', 'autoroute', 'relie', 'métropole', 'tampon', 'industrielle', 'avenir', '250', 'aholouyèmè', 'djèrègbé', 'tohouè', 'total', '55', 'confiance', 'jonas', 'gbènamèto', 'juin', 'mouvements', 'migratoires', 'provenance', 'ressortissants', 'attirés', 'business', 'parcs', 'véhicules', 'industries', 'cesse', 'exploser', 'prévisions', 'dix', 'quasiment', 'doublé', '115', '238', '2002', '224', '207', 'taux', 'annuel', 'accroissement', 'intercensitaire', '24', 'dominants', 'xwla', 'auxquels', 'ajoutent', 'immigrants', 'ibo', 'voisin', 'faible', 'comprise', 'entourée', 'plans', 'dotée', 'sèches', 'pluvieuses', 'température', '27', 'arrosées', 'moyennes', 'ordre', '100', 'transfrontalier', 'vivrières', 'maraîchères', 'rente', 'canne', 'sucre', 'cocotiers', 'porcs', 'ménages', 'restauration', 'viande', 'prisée', 'façon', 'volailles', 'ovins', 'caprins', 'lapins', 'aulacodes', 'alimentation', 'espaces', 'herbeux', 'cocotiers', 'pratiquent', 'ressource', 'panier', 'ménagère', 'types', 'pratiqués', 'filet', 'hameçon', 'maritime', 'acaja', 'trous', 'étangs', 'piscicoles', 'pêchées', 'silure', 'tilapia', 'crevette', 'écrevisse', 'raie', 'mollusques', 'crabes', 'sardinelle', 'existence', 'marais', 'atout', 'naturel', 'draine', 'touristes', 'hôtellerie', 'négligeables', 'monument', 'saint', 'antoine', 'padoue', 'mondocomè', 'musée', 'honmè', 'vodoun', 'houéhoun', 'rives', 'plages', 'cta', 'bymin', 'ouèkè', 'djrèrègbé', 'historiques', 'davatin', 'agbogodo', 'wéla', 'yovohonto', 'kétonou', 'aholouyèmè', 'ohoun', 'kinsi', 'houinta', 'toffa', 'awanou', 'djrèrègbé', 'structures', 'hôtels', 'hôtel', 'palm', 'beach', 'cta', 'bymin', 'motels', 'motel', 'yamadjako', 'glogbo', 'motel', 'ekpè3', 'pk13', 'auberges', 'hébergement', 'ctom', 'emmaüs', 'tohouê', 'maquis', 'restaurants', 'faciliter', 'séjour', 'touristes', 'hôtes', 'apprête', 'rentrer', 'pétrolier', 'minéralier', 'commercial', 'profonde', 'ambitieux', 'tapis', '2010', 'présentée', 'ministres', '22', '2017', 'décidé', 'signer', 'convention', 'disposition', 'promoteur', 'pétrolin', 'samuel', 'dossou', 'aworet', 'certificat', 'conformité', 'environnementale', 'active', 'concrétisation', 'navires', 'booster', 'régionale', 'franche', 'industrielle', 'compétitive', 'dénommé', 'city', 'internationale', 'innovation', 'souhaite', 'singulier', 'formation', 'génération', 'talents', 'avenir', 'accompagne', 'croissance', 'entrepreneurs', 'étudiants', 'chercheurs', 'permettre', 'déployer', 'véritables', 'innovations', 'succès', 'asphaltage', 'gestion', 'déchets', 'solides', 'ménagers']\n",
      "\n",
      "\n",
      "{'ADJOHOUN': FreqDist({'amoureux': 2, 'fanvinous': 1, 'ifèvi': 1, 'ilè': 1, 'ifè': 1, 'aïzos': 1, 'adjas': 1, 'mono': 1, 'djigbénous': 1, 'kpomènous': 1, ...}), 'BONOU': FreqDist({'littéralement': 2, 'nagos': 2, 'holli': 2, 'damè': 2, 'inondable': 2, 'rehaussée': 2, 'fumé': 2, 'crin': 2, 'oro': 2, 'wémèton': 1, ...}), 'AGUEGUES': FreqDist({'agbodjèdo': 2, 'fagot': 2, 'nake': 2, 'épargné': 2, 'djêviénou': 2, 'dankonou': 2, 'directement': 2, 'tado': 2, 'agbanlin': 2, 'hogbonou': 2, ...}), 'SÈMÈ-PODJI': FreqDist({'industrielle': 2, 'avenir': 2, 'aholouyèmè': 2, 'cocotiers': 2, 'touristes': 2, 'cta': 2, 'bymin': 2, 'djrèrègbé': 2, 'motel': 2, 'banlieue': 1, ...}), 'SÔ-AVA': FreqDist({'vedette': 2, 'halieutiques': 2, 'ahomey': 2, 'lokpo': 2, 'dékanmey': 2, 'méthode': 2, 'filets': 2, 'poissons': 2, 'association': 1, 'désignant': 1, ...}), 'AKPRO-MISSÉRÉTÉ': FreqDist({'vèdonou': 2, 'zoungbomè': 2, 'tòli': 2, '1864': 2, 'ahovi': 2, 'palmiers': 2, 'projets': 2, 'école': 2, 'gohoun': 2, 'traversant': 2, ...}), 'COPARGO': FreqDist({'mont': 2, 'fôô': 2, 'anandana': 2, 'tanékas': 2, 'féticheurs': 2, 'issëi': 2, 'idoro': 2, 'sommet': 1, '654': 1, 'évolué': 1, ...}), 'OUAKÉ': FreqDist({'sèmèrè': 2, 'grosses': 2, 'buttes': 2, 'e': 2, 'cousse': 2, 'baobabs': 1, 'prise': 1, 'bassila': 1, 'marquant': 1, 'fin': 1, ...}), 'TANGUIÉTA': FreqDist({'massifs': 2, 'brèche': 2, 'chaîne': 2, 'limites': 2, 'reliefs': 1, 'attractifs': 1, 'visite': 1, 'impressionnantes': 1, 'nanèbou': 1, 'pnp': 1, ...}), 'TOUCOUNTOUNA': FreqDist({'territorial': 2, 'toukountouna': 2, 'avènement': 2, 'succession': 2, 'totokobou': 2, 'quantité': 2, 'varient': 2, 'sablonneux': 2, 'caillouteux': 2, 'argileux': 2, ...}), 'PÉHUNCO': FreqDist({'baatombou': 2, 'préparation': 2, 'wassaraco': 2, 'souffrir': 2, 'pierre': 2, 'noire': 2, 'divinité': 2, 'sacrifices': 2, 'simplement': 2, '1770': 1, ...}), 'SINENDÉ': FreqDist({'sèkèrè': 2, '59': 2, 'jouissent': 2, 'dia': 2, 'doute': 2, 'prolifiques': 1, 'champs': 1, 'kona': 1, 'fascine': 1, 'réserve': 1, ...}), 'GOGOUNOU': FreqDist({'agresseurs': 2, 'ennemi': 2, 'gobani': 2, 'princes': 2, 'koros': 2, 'sougou': 2, 'kpan': 2, 'trossi': 2, 'tidjani': 2, 'peuvent': 2, ...}), 'SÉGBANA OU SEH GBA BE': FreqDist({'sokotindji': 2, 'gbãa': 2, 'kissira': 2, 'ilo': 2, 'bissa': 2, 'wέlε': 2, 'sakabanzi': 2, 'pieds': 2, 'précis': 2, 'mains': 2, ...}), 'KARIMAMA': FreqDist({'biosphère': 2, 'bogo': 2, 'dresse': 1, 'majestueusement': 1, 'dernières': 1, 'réserves': 1, 'désignée': 1, 'kalmanman': 1, 'karamma': 1, 'provient': 1, ...}), \"N'DALI OU LA CITÉ DE BONA KÉRI\": FreqDist({'princesse': 2, 'partit': 2, 'daari': 2, 'ridicule': 2, 'daaria': 2, 'ouénou': 2, 'bori': 2, 'kèri': 2, 'sert': 2, 'cultuel': 2, ...}), 'PÈRÈRÈ': FreqDist({'telle': 2, 'guerrier': 2, 'soldats': 2, 'guerra': 2, 'oubli': 2, 'pénétration': 2, '31': 2, 'guinagourou': 2, 'sontou': 2, '513': 1, ...}), 'COTONOU': FreqDist({'cordon': 2, 'esclavage': 2, 'glèlè': 2, 'issue': 2, 'voies': 2, 'trône': 2, 'béhanzin': 2, 'france': 2, 'côte': 2, 'plm': 2, ...}), 'ABOMEY-CALAVI': FreqDist({'hospitalier': 2, 'logements': 2, 'glo': 2, 'agbomin': 2, 'kan': 2, 'dô': 2, 'portion': 2, 'juste': 2, 'bacheliers': 2, 'aspiraient': 2, ...})}\n"
     ]
    },
    {
     "data": {
      "text/plain": [
       "<matplotlib.axes._subplots.AxesSubplot at 0x7f6c2d328690>"
      ]
     },
     "execution_count": 135,
     "metadata": {},
     "output_type": "execute_result"
    },
    {
     "data": {
      "image/png": "[encoded data removed]",
      "text/plain": [
       "<Figure size 432x288 with 1 Axes>"
      ]
     },
     "metadata": {
      "needs_background": "light"
     },
     "output_type": "display_data"
    }
   ],
   "source": [
    "def freq_stats_corpora2(lookup_table=[]):\n",
    "    _word_list = {}\n",
    "    _stats, _freq = dict(), dict()\n",
    "    \n",
    "    #let filter token from our word_list\n",
    "    for _area, description in word_list.items():\n",
    "        _word_list[_area] = [w for w in description if not w in list(sw)]\n",
    "\n",
    "    for k, v in _word_list.items():\n",
    "        _freq[k] = fq = nltk.FreqDist(v)\n",
    "        _stats[k] = {'total': len(v), 'unique': len(fq.keys())}\n",
    "    return (_freq, _stats, _word_list)\n",
    "\n",
    "# get count stat\n",
    "freq2, stats2, word_list2 = freq_stats_corpora2()\n",
    "df2 = pd.DataFrame.from_dict(stats2, orient='index')\n",
    "\n",
    "#print(stats2)\n",
    "#print('\\n')\n",
    "#print(word_list2['SÈMÈ-PODJI'])\n",
    "#print('\\n')\n",
    "#print(freq2)\n",
    "\n",
    "# Display frequency\n",
    "df2.sort_values(by='total', ascending=True)\n",
    "df2.plot(kind='bar', color=['red', 'gray'], title='Filtrage de descripton par nombre de mots sans stopword')\n"
   ]
  },
  {
   "cell_type": "markdown",
   "metadata": {},
   "source": [
    "As we don't have lemmatization french function corpus in nltk we're going to use stemming to end this preprocess"
   ]
  },
  {
   "cell_type": "code",
   "execution_count": 134,
   "metadata": {},
   "outputs": [
    {
     "name": "stdout",
     "output_type": "stream",
     "text": [
      "{'ADJOHOUN': {'total': 141, 'unique': 140}, 'BONOU': {'total': 240, 'unique': 231}, 'AGUEGUES': {'total': 209, 'unique': 192}, 'SÈMÈ-PODJI': {'total': 240, 'unique': 231}, 'SÔ-AVA': {'total': 130, 'unique': 122}, 'AKPRO-MISSÉRÉTÉ': {'total': 255, 'unique': 245}, 'COPARGO': {'total': 159, 'unique': 152}, 'OUAKÉ': {'total': 199, 'unique': 194}, 'TANGUIÉTA': {'total': 161, 'unique': 157}, 'TOUCOUNTOUNA': {'total': 220, 'unique': 209}, 'PÉHUNCO': {'total': 158, 'unique': 149}, 'SINENDÉ': {'total': 140, 'unique': 135}, 'GOGOUNOU': {'total': 208, 'unique': 197}, 'SÉGBANA OU SEH GBA BE': {'total': 191, 'unique': 180}, 'KARIMAMA': {'total': 136, 'unique': 134}, \"N'DALI OU LA CITÉ DE BONA KÉRI\": {'total': 261, 'unique': 246}, 'PÈRÈRÈ': {'total': 223, 'unique': 214}, 'COTONOU': {'total': 490, 'unique': 467}, 'ABOMEY-CALAVI': {'total': 176, 'unique': 161}}\n",
      "\n",
      "\n",
      "['banlieue', 'érigée', 'houlènou', '1965', 'étendait', 'battement', '1967', '1971', 'lendemain', 'révolution', '1972', 'district', 'bourgade', 'lorsqu', 'tente', 'échappée', 'autoroute', 'relie', 'métropole', 'tampon', 'industrielle', 'avenir', '250', 'aholouyèmè', 'djèrègbé', 'tohouè', 'total', '55', 'confiance', 'jonas', 'gbènamèto', 'juin', 'mouvements', 'migratoires', 'provenance', 'ressortissants', 'attirés', 'business', 'parcs', 'véhicules', 'industries', 'cesse', 'exploser', 'prévisions', 'dix', 'quasiment', 'doublé', '115', '238', '2002', '224', '207', 'taux', 'annuel', 'accroissement', 'intercensitaire', '24', 'dominants', 'xwla', 'auxquels', 'ajoutent', 'immigrants', 'ibo', 'voisin', 'faible', 'comprise', 'entourée', 'plans', 'dotée', 'sèches', 'pluvieuses', 'température', '27', 'arrosées', 'moyennes', 'ordre', '100', 'transfrontalier', 'vivrières', 'maraîchères', 'rente', 'canne', 'sucre', 'cocotiers', 'porcs', 'ménages', 'restauration', 'viande', 'prisée', 'façon', 'volailles', 'ovins', 'caprins', 'lapins', 'aulacodes', 'alimentation', 'espaces', 'herbeux', 'cocotiers', 'pratiquent', 'ressource', 'panier', 'ménagère', 'types', 'pratiqués', 'filet', 'hameçon', 'maritime', 'acaja', 'trous', 'étangs', 'piscicoles', 'pêchées', 'silure', 'tilapia', 'crevette', 'écrevisse', 'raie', 'mollusques', 'crabes', 'sardinelle', 'existence', 'marais', 'atout', 'naturel', 'draine', 'touristes', 'hôtellerie', 'négligeables', 'monument', 'saint', 'antoine', 'padoue', 'mondocomè', 'musée', 'honmè', 'vodoun', 'houéhoun', 'rives', 'plages', 'cta', 'bymin', 'ouèkè', 'djrèrègbé', 'historiques', 'davatin', 'agbogodo', 'wéla', 'yovohonto', 'kétonou', 'aholouyèmè', 'ohoun', 'kinsi', 'houinta', 'toffa', 'awanou', 'djrèrègbé', 'structures', 'hôtels', 'hôtel', 'palm', 'beach', 'cta', 'bymin', 'motels', 'motel', 'yamadjako', 'glogbo', 'motel', 'ekpè3', 'pk13', 'auberges', 'hébergement', 'ctom', 'emmaüs', 'tohouê', 'maquis', 'restaurants', 'faciliter', 'séjour', 'touristes', 'hôtes', 'apprête', 'rentrer', 'pétrolier', 'minéralier', 'commercial', 'profonde', 'ambitieux', 'tapis', '2010', 'présentée', 'ministres', '22', '2017', 'décidé', 'signer', 'convention', 'disposition', 'promoteur', 'pétrolin', 'samuel', 'dossou', 'aworet', 'certificat', 'conformité', 'environnementale', 'active', 'concrétisation', 'navires', 'booster', 'régionale', 'franche', 'industrielle', 'compétitive', 'dénommé', 'city', 'internationale', 'innovation', 'souhaite', 'singulier', 'formation', 'génération', 'talents', 'avenir', 'accompagne', 'croissance', 'entrepreneurs', 'étudiants', 'chercheurs', 'permettre', 'déployer', 'véritables', 'innovations', 'succès', 'asphaltage', 'gestion', 'déchets', 'solides', 'ménagers']\n",
      "\n",
      "\n",
      "{'ADJOHOUN': FreqDist({'amoureux': 2, 'fanvinous': 1, 'ifèvi': 1, 'ilè': 1, 'ifè': 1, 'aïzos': 1, 'adjas': 1, 'mono': 1, 'djigbénous': 1, 'kpomènous': 1, ...}), 'BONOU': FreqDist({'littéralement': 2, 'nagos': 2, 'holli': 2, 'damè': 2, 'inondable': 2, 'rehaussée': 2, 'fumé': 2, 'crin': 2, 'oro': 2, 'wémèton': 1, ...}), 'AGUEGUES': FreqDist({'agbodjèdo': 2, 'fagot': 2, 'nake': 2, 'épargné': 2, 'djêviénou': 2, 'dankonou': 2, 'directement': 2, 'tado': 2, 'agbanlin': 2, 'hogbonou': 2, ...}), 'SÈMÈ-PODJI': FreqDist({'industrielle': 2, 'avenir': 2, 'aholouyèmè': 2, 'cocotiers': 2, 'touristes': 2, 'cta': 2, 'bymin': 2, 'djrèrègbé': 2, 'motel': 2, 'banlieue': 1, ...}), 'SÔ-AVA': FreqDist({'vedette': 2, 'halieutiques': 2, 'ahomey': 2, 'lokpo': 2, 'dékanmey': 2, 'méthode': 2, 'filets': 2, 'poissons': 2, 'association': 1, 'désignant': 1, ...}), 'AKPRO-MISSÉRÉTÉ': FreqDist({'vèdonou': 2, 'zoungbomè': 2, 'tòli': 2, '1864': 2, 'ahovi': 2, 'palmiers': 2, 'projets': 2, 'école': 2, 'gohoun': 2, 'traversant': 2, ...}), 'COPARGO': FreqDist({'mont': 2, 'fôô': 2, 'anandana': 2, 'tanékas': 2, 'féticheurs': 2, 'issëi': 2, 'idoro': 2, 'sommet': 1, '654': 1, 'évolué': 1, ...}), 'OUAKÉ': FreqDist({'sèmèrè': 2, 'grosses': 2, 'buttes': 2, 'e': 2, 'cousse': 2, 'baobabs': 1, 'prise': 1, 'bassila': 1, 'marquant': 1, 'fin': 1, ...}), 'TANGUIÉTA': FreqDist({'massifs': 2, 'brèche': 2, 'chaîne': 2, 'limites': 2, 'reliefs': 1, 'attractifs': 1, 'visite': 1, 'impressionnantes': 1, 'nanèbou': 1, 'pnp': 1, ...}), 'TOUCOUNTOUNA': FreqDist({'territorial': 2, 'toukountouna': 2, 'avènement': 2, 'succession': 2, 'totokobou': 2, 'quantité': 2, 'varient': 2, 'sablonneux': 2, 'caillouteux': 2, 'argileux': 2, ...}), 'PÉHUNCO': FreqDist({'baatombou': 2, 'préparation': 2, 'wassaraco': 2, 'souffrir': 2, 'pierre': 2, 'noire': 2, 'divinité': 2, 'sacrifices': 2, 'simplement': 2, '1770': 1, ...}), 'SINENDÉ': FreqDist({'sèkèrè': 2, '59': 2, 'jouissent': 2, 'dia': 2, 'doute': 2, 'prolifiques': 1, 'champs': 1, 'kona': 1, 'fascine': 1, 'réserve': 1, ...}), 'GOGOUNOU': FreqDist({'agresseurs': 2, 'ennemi': 2, 'gobani': 2, 'princes': 2, 'koros': 2, 'sougou': 2, 'kpan': 2, 'trossi': 2, 'tidjani': 2, 'peuvent': 2, ...}), 'SÉGBANA OU SEH GBA BE': FreqDist({'sokotindji': 2, 'gbãa': 2, 'kissira': 2, 'ilo': 2, 'bissa': 2, 'wέlε': 2, 'sakabanzi': 2, 'pieds': 2, 'précis': 2, 'mains': 2, ...}), 'KARIMAMA': FreqDist({'biosphère': 2, 'bogo': 2, 'dresse': 1, 'majestueusement': 1, 'dernières': 1, 'réserves': 1, 'désignée': 1, 'kalmanman': 1, 'karamma': 1, 'provient': 1, ...}), \"N'DALI OU LA CITÉ DE BONA KÉRI\": FreqDist({'princesse': 2, 'partit': 2, 'daari': 2, 'ridicule': 2, 'daaria': 2, 'ouénou': 2, 'bori': 2, 'kèri': 2, 'sert': 2, 'cultuel': 2, ...}), 'PÈRÈRÈ': FreqDist({'telle': 2, 'guerrier': 2, 'soldats': 2, 'guerra': 2, 'oubli': 2, 'pénétration': 2, '31': 2, 'guinagourou': 2, 'sontou': 2, '513': 1, ...}), 'COTONOU': FreqDist({'cordon': 2, 'esclavage': 2, 'glèlè': 2, 'issue': 2, 'voies': 2, 'trône': 2, 'béhanzin': 2, 'france': 2, 'côte': 2, 'plm': 2, ...}), 'ABOMEY-CALAVI': FreqDist({'hospitalier': 2, 'logements': 2, 'glo': 2, 'agbomin': 2, 'kan': 2, 'dô': 2, 'portion': 2, 'juste': 2, 'bacheliers': 2, 'aspiraient': 2, ...})}\n"
     ]
    },
    {
     "data": {
      "text/plain": [
       "<matplotlib.axes._subplots.AxesSubplot at 0x7f6c2d4bd150>"
      ]
     },
     "execution_count": 134,
     "metadata": {},
     "output_type": "execute_result"
    },
    {
     "data": {
      "image/png": "[encoded data removed]",
      "text/plain": [
       "<Figure size 432x288 with 1 Axes>"
      ]
     },
     "metadata": {
      "needs_background": "light"
     },
     "output_type": "display_data"
    }
   ],
   "source": [
    "from nltk.stem.snowball import FrenchStemmer\n",
    "\n",
    "stemmer = FrenchStemmer()\n",
    "\n",
    "def freq_stats_corpora3(lookup_table=[]):\n",
    "    _word_list = {}\n",
    "    _stats, _freq = dict(), dict()\n",
    "    \n",
    "    #let filter token from our word_list\n",
    "    for _area, description in word_list.items():\n",
    "        _word_list[_area] = [stemmer.stem(w) for w in description if not w in list(sw)]\n",
    "\n",
    "    for k, v in _word_list.items():\n",
    "        _freq[k] = fq = nltk.FreqDist(v)\n",
    "        _stats[k] = {'total': len(v), 'unique': len(fq.keys())}\n",
    "    return (_freq, _stats, _word_list)\n",
    "\n",
    "# get count stat\n",
    "freq3, stats3, word_list3 = freq_stats_corpora3()\n",
    "df3 = pd.DataFrame.from_dict(stats3, orient='index')\n",
    "\n",
    "print(stats2)\n",
    "print('\\n')\n",
    "print(word_list2['SÈMÈ-PODJI'])\n",
    "print('\\n')\n",
    "print(freq2)\n",
    "\n",
    "# Display frequency\n",
    "df3.sort_values(by='unique', ascending=False)\n",
    "df3.plot(kind='bar', color=['red', 'gray'], title='Filtrage de descripton stemize sans stopword')"
   ]
  },
  {
   "cell_type": "code",
   "execution_count": null,
   "metadata": {},
   "outputs": [],
   "source": []
  }
 ],
 "metadata": {
  "kernelspec": {
   "display_name": "Python 3",
   "language": "python",
   "name": "python3"
  },
  "language_info": {
   "codemirror_mode": {
    "name": "ipython",
    "version": 3
   },
   "file_extension": ".py",
   "mimetype": "text/x-python",
   "name": "python",
   "nbconvert_exporter": "python",
   "pygments_lexer": "ipython3",
   "version": "3.7.6"
  }
 },
 "nbformat": 4,
 "nbformat_minor": 4
}
