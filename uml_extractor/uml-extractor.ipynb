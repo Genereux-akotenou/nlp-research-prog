{
 "cells": [
  {
   "cell_type": "markdown",
   "metadata": {},
   "source": [
    "<img src=\"./header.png\" style=\"width: 100%; height: 1em;\" alt=\"banner\"/>"
   ]
  },
  {
   "cell_type": "markdown",
   "metadata": {},
   "source": [
    "<b>UML Extractor<b/> - \n",
    "<span>v1.0</span>\n",
    "<br>\n",
    "<br>\n",
    "<hr>"
   ]
  },
  {
   "cell_type": "code",
   "execution_count": 85,
   "metadata": {},
   "outputs": [],
   "source": [
    "! pip install nltk"
   ]
  },
  {
   "cell_type": "code",
   "execution_count": null,
   "metadata": {},
   "outputs": [],
   "source": [
    "import nltk\n",
    "nltk.download('stopwords')\n",
    "from nltk.corpus import stopwords\n",
    "fr_stopwords = set(stopwords.words('french'))\n",
    "import pandas as pd"
   ]
  },
  {
   "cell_type": "markdown",
   "metadata": {},
   "source": [
    "<br>"
   ]
  },
  {
   "cell_type": "markdown",
   "metadata": {},
   "source": [
    "<img src=\"./header.png\" style=\"width: 100%; height: 1em;\" alt=\"banner\"/>"
   ]
  },
  {
   "cell_type": "markdown",
   "metadata": {},
   "source": [
    "<b>Functions<b/>"
   ]
  },
  {
   "cell_type": "code",
   "execution_count": 124,
   "metadata": {},
   "outputs": [],
   "source": [
    "def get_input_text():\n",
    "    return str(input('Input : ')).lower()"
   ]
  },
  {
   "cell_type": "code",
   "execution_count": 125,
   "metadata": {},
   "outputs": [],
   "source": [
    "def get_static_input_text():\n",
    "    _input = \"Un propriétaire peut posséder plusieurs biens immobiliers.\"\n",
    "    print('Input: {}'.format(_input.lower()))\n",
    "    return _input"
   ]
  },
  {
   "cell_type": "code",
   "execution_count": 126,
   "metadata": {},
   "outputs": [],
   "source": [
    "def tokenizer(text):\n",
    "    tokenizer = nltk.RegexpTokenizer(r'\\w+')\n",
    "    return tokenizer.tokenize(text.lower())"
   ]
  },
  {
   "cell_type": "code",
   "execution_count": 127,
   "metadata": {},
   "outputs": [],
   "source": [
    "def statistician(text):\n",
    "    tokenizer = nltk.RegexpTokenizer(r'\\w+')\n",
    "\n",
    "    stats = {'token':0, 'stats':{}, 'freq':{}}\n",
    "\n",
    "    # Création d'un corpus de tokens par artiste\n",
    "    stats['token'] = [word for word in tokenizer.tokenize(textual_text.lower()) if word not in fr_stopwords]\n",
    "    stats['freq']  = fq = nltk.FreqDist(stats['token'])\n",
    "    stats['stats'] = {'total': len(stats['token']), 'unique': len(fq.keys())}\n",
    "    \n",
    "    return stats"
   ]
  },
  {
   "cell_type": "code",
   "execution_count": 128,
   "metadata": {},
   "outputs": [],
   "source": [
    "def graphViewer(tab, title):\n",
    "    colors = ['red', 'gray', 'blue', 'yellow', 'red']\n",
    "    #print([x for i, x in enumerate(colors) if i < len(tab)])\n",
    "    df = pd.DataFrame.from_dict(tab, orient='index')\n",
    "    df.plot(kind='bar', color=[x for i, x in enumerate(colors) if i <= len(tab)], title=title)"
   ]
  },
  {
   "cell_type": "markdown",
   "metadata": {},
   "source": [
    "<br/>"
   ]
  },
  {
   "cell_type": "markdown",
   "metadata": {},
   "source": [
    "<img src=\"./header.png\" style=\"width: 100%; height: 1em;\" alt=\"banner\"/>"
   ]
  },
  {
   "cell_type": "markdown",
   "metadata": {},
   "source": [
    "<h6 style=\"color: red; margin-bottom: 1em;\">main.py</h6><hr>"
   ]
  },
  {
   "cell_type": "markdown",
   "metadata": {},
   "source": [
    "<b>GET INPUT</b>"
   ]
  },
  {
   "cell_type": "code",
   "execution_count": 130,
   "metadata": {},
   "outputs": [
    {
     "name": "stdout",
     "output_type": "stream",
     "text": [
      "Input : un propriétaire peut posséder plusieurs biens immobiliers.\n"
     ]
    }
   ],
   "source": [
    "textual_text = get_input_text()"
   ]
  },
  {
   "cell_type": "code",
   "execution_count": 68,
   "metadata": {},
   "outputs": [
    {
     "name": "stdout",
     "output_type": "stream",
     "text": [
      "Input: un propriétaire peut posséder plusieurs biens immobiliers.\n"
     ]
    }
   ],
   "source": [
    "#GET INPUT TEXT\n",
    "textual_text = get_static_input_text()"
   ]
  },
  {
   "cell_type": "markdown",
   "metadata": {},
   "source": [
    "<b>FIND STOP WORDS</b>"
   ]
  },
  {
   "cell_type": "code",
   "execution_count": 131,
   "metadata": {},
   "outputs": [
    {
     "data": {
      "text/plain": [
       "['un']"
      ]
     },
     "execution_count": 131,
     "metadata": {},
     "output_type": "execute_result"
    }
   ],
   "source": [
    "stopWordFound = [word for word in tokenizer(textual_text) if word in fr_stopwords]\n",
    "stopWordFound"
   ]
  },
  {
   "cell_type": "markdown",
   "metadata": {},
   "source": [
    "<b>STATS WITHOUT STOPWORD</b>"
   ]
  },
  {
   "cell_type": "code",
   "execution_count": 132,
   "metadata": {},
   "outputs": [],
   "source": [
    "word_list1 = statistician(textual_text)"
   ]
  },
  {
   "cell_type": "code",
   "execution_count": 122,
   "metadata": {
    "collapsed": true
   },
   "outputs": [
    {
     "data": {
      "image/png": "[encoded data removed]",
      "text/plain": [
       "<Figure size 432x288 with 1 Axes>"
      ]
     },
     "metadata": {
      "needs_background": "light"
     },
     "output_type": "display_data"
    }
   ],
   "source": [
    "graphViewer(word_list1['stats'], 'ppp')"
   ]
  },
  {
   "cell_type": "code",
   "execution_count": 133,
   "metadata": {},
   "outputs": [
    {
     "data": {
      "text/plain": [
       "{'token': ['propriétaire',\n",
       "  'peut',\n",
       "  'posséder',\n",
       "  'plusieurs',\n",
       "  'biens',\n",
       "  'immobiliers'],\n",
       " 'stats': {'total': 6, 'unique': 6},\n",
       " 'freq': FreqDist({'propriétaire': 1, 'peut': 1, 'posséder': 1, 'plusieurs': 1, 'biens': 1, 'immobiliers': 1})}"
      ]
     },
     "execution_count": 133,
     "metadata": {},
     "output_type": "execute_result"
    }
   ],
   "source": [
    "word_list1"
   ]
  },
  {
   "cell_type": "markdown",
   "metadata": {},
   "source": [
    "<b>STEMMING</b>"
   ]
  },
  {
   "cell_type": "markdown",
   "metadata": {},
   "source": [
    "As we don't have lemmatization french function corpus in nltk we're going to use stemming to end this preprocess step"
   ]
  },
  {
   "cell_type": "code",
   "execution_count": null,
   "metadata": {},
   "outputs": [],
   "source": []
  }
 ],
 "metadata": {
  "kernelspec": {
   "display_name": "Python 3",
   "language": "python",
   "name": "python3"
  },
  "language_info": {
   "codemirror_mode": {
    "name": "ipython",
    "version": 3
   },
   "file_extension": ".py",
   "mimetype": "text/x-python",
   "name": "python",
   "nbconvert_exporter": "python",
   "pygments_lexer": "ipython3",
   "version": "3.7.6"
  }
 },
 "nbformat": 4,
 "nbformat_minor": 4
}
