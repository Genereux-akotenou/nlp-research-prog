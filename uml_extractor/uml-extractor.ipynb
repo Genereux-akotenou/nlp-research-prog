{
 "cells": [
  {
   "cell_type": "markdown",
   "metadata": {},
   "source": [
    "<img src=\"./header.png\" style=\"width: 100%; height: 1em;\" alt=\"banner\"/>"
   ]
  },
  {
   "cell_type": "markdown",
   "metadata": {},
   "source": [
    "<b>UML Extractor<b/> - \n",
    "<span>v1.0</span>\n",
    "<br>\n",
    "<br>\n",
    "<hr>"
   ]
  },
  {
   "cell_type": "code",
   "execution_count": 85,
   "metadata": {},
   "outputs": [],
   "source": [
    "! pip install nltk"
   ]
  },
  {
   "cell_type": "code",
   "execution_count": 153,
   "metadata": {},
   "outputs": [
    {
     "name": "stderr",
     "output_type": "stream",
     "text": [
      "[nltk_data] Downloading package stopwords to\n",
      "[nltk_data]     /home/genereux/nltk_data...\n",
      "[nltk_data]   Package stopwords is already up-to-date!\n"
     ]
    }
   ],
   "source": [
    "import nltk\n",
    "nltk.download('stopwords')\n",
    "from nltk.corpus import stopwords\n",
    "fr_stopwords = set(stopwords.words('french'))\n",
    "import pandas as pd\n",
    "from nltk.stem.snowball import FrenchStemmer"
   ]
  },
  {
   "cell_type": "markdown",
   "metadata": {},
   "source": [
    "<br>"
   ]
  },
  {
   "cell_type": "markdown",
   "metadata": {},
   "source": [
    "<img src=\"./header.png\" style=\"width: 100%; height: 1em;\" alt=\"banner\"/>"
   ]
  },
  {
   "cell_type": "markdown",
   "metadata": {},
   "source": [
    "<b>Functions<b/>"
   ]
  },
  {
   "cell_type": "code",
   "execution_count": 124,
   "metadata": {},
   "outputs": [],
   "source": [
    "def get_input_text():\n",
    "    return str(input('Input : ')).lower()"
   ]
  },
  {
   "cell_type": "code",
   "execution_count": 125,
   "metadata": {},
   "outputs": [],
   "source": [
    "def get_static_input_text():\n",
    "    _input = \"Un propriétaire peut posséder plusieurs biens immobiliers.\"\n",
    "    print('Input: {}'.format(_input.lower()))\n",
    "    return _input"
   ]
  },
  {
   "cell_type": "code",
   "execution_count": 154,
   "metadata": {},
   "outputs": [],
   "source": [
    "def tokenizer(text):    \n",
    "    tokenizer = nltk.RegexpTokenizer(r'\\w+')\n",
    "    return tokenizer.tokenize(text.lower())"
   ]
  },
  {
   "cell_type": "code",
   "execution_count": 155,
   "metadata": {},
   "outputs": [],
   "source": [
    "def statistician(text):\n",
    "    tokenizer = nltk.RegexpTokenizer(r'\\w+')\n",
    "\n",
    "    stats = {'token':0, 'stats':{}, 'freq':{}}\n",
    "\n",
    "    # Création d'un corpus de tokens par artiste\n",
    "    stats['token'] = [word for word in tokenizer.tokenize(textual_text.lower()) if word not in fr_stopwords]\n",
    "    stats['freq']  = fq = nltk.FreqDist(stats['token'])\n",
    "    stats['stats'] = {'total': len(stats['token']), 'unique': len(fq.keys())}\n",
    "    \n",
    "    return stats"
   ]
  },
  {
   "cell_type": "code",
   "execution_count": 156,
   "metadata": {},
   "outputs": [],
   "source": [
    "def stemmer(token):\n",
    "    stemmer = FrenchStemmer()\n",
    "\n",
    "    word_list_stem = [stemmer.stem(word) for word in token]\n",
    "    \n",
    "    return word_list_stem"
   ]
  },
  {
   "cell_type": "code",
   "execution_count": 128,
   "metadata": {},
   "outputs": [],
   "source": [
    "def graphViewer(tab, title):\n",
    "    colors = ['red', 'gray', 'blue', 'yellow', 'red']\n",
    "    #print([x for i, x in enumerate(colors) if i < len(tab)])\n",
    "    df = pd.DataFrame.from_dict(tab, orient='index')\n",
    "    df.plot(kind='bar', color=[x for i, x in enumerate(colors) if i <= len(tab)], title=title)"
   ]
  },
  {
   "cell_type": "markdown",
   "metadata": {},
   "source": [
    "<br/>"
   ]
  },
  {
   "cell_type": "markdown",
   "metadata": {},
   "source": [
    "<img src=\"./header.png\" style=\"width: 100%; height: 1em;\" alt=\"banner\"/>"
   ]
  },
  {
   "cell_type": "markdown",
   "metadata": {},
   "source": [
    "<h6 style=\"color: red; margin-bottom: 1em;\">main.py</h6><hr>"
   ]
  },
  {
   "cell_type": "markdown",
   "metadata": {},
   "source": [
    "<b>GET INPUT</b>"
   ]
  },
  {
   "cell_type": "code",
   "execution_count": 160,
   "metadata": {},
   "outputs": [
    {
     "name": "stdout",
     "output_type": "stream",
     "text": [
      "Input : Un propriétaire est une personne qui possède des biens immobiliers et s'adresse à l'agence pour les présenter à ses clients.  Un propriétaire peut posséder plusieurs biens immobiliers  Un bien immobilier ne peut être la propriété que d'un seul propriétaire.  Un bien immobilier est soit à louer, soit à acheter. Un numéro permet de l'identifier parmi tous les biens immobiliers.  Un bien immobilier appartient toujours à une et une seule classe standard.  Une classe standard peut ne contenir aucun bien immobilier.  Un client peut être intéressé par plusieurs classes de biens.  Un client est identifié par un numéro attribué par compostage. Il peut visiter plusieurs fois le même bien accompagné d'un responsable différent.  Un propriétaire est identifié par son numéro.\n"
     ]
    }
   ],
   "source": [
    "textual_text = get_input_text()"
   ]
  },
  {
   "cell_type": "code",
   "execution_count": 68,
   "metadata": {},
   "outputs": [
    {
     "name": "stdout",
     "output_type": "stream",
     "text": [
      "Input: un propriétaire peut posséder plusieurs biens immobiliers.\n"
     ]
    }
   ],
   "source": [
    "#GET INPUT TEXT\n",
    "textual_text = get_static_input_text()"
   ]
  },
  {
   "cell_type": "markdown",
   "metadata": {},
   "source": [
    "<b>FIND STOP WORDS</b>"
   ]
  },
  {
   "cell_type": "code",
   "execution_count": 161,
   "metadata": {},
   "outputs": [
    {
     "data": {
      "text/plain": [
       "['un',\n",
       " 'est',\n",
       " 'une',\n",
       " 'qui',\n",
       " 'des',\n",
       " 'et',\n",
       " 's',\n",
       " 'à',\n",
       " 'l',\n",
       " 'pour',\n",
       " 'les',\n",
       " 'à',\n",
       " 'ses',\n",
       " 'un',\n",
       " 'un',\n",
       " 'ne',\n",
       " 'la',\n",
       " 'que',\n",
       " 'd',\n",
       " 'un',\n",
       " 'un',\n",
       " 'est',\n",
       " 'soit',\n",
       " 'à',\n",
       " 'soit',\n",
       " 'à',\n",
       " 'un',\n",
       " 'de',\n",
       " 'l',\n",
       " 'les',\n",
       " 'un',\n",
       " 'à',\n",
       " 'une',\n",
       " 'et',\n",
       " 'une',\n",
       " 'une',\n",
       " 'ne',\n",
       " 'un',\n",
       " 'par',\n",
       " 'de',\n",
       " 'un',\n",
       " 'est',\n",
       " 'par',\n",
       " 'un',\n",
       " 'par',\n",
       " 'il',\n",
       " 'le',\n",
       " 'même',\n",
       " 'd',\n",
       " 'un',\n",
       " 'un',\n",
       " 'est',\n",
       " 'par',\n",
       " 'son']"
      ]
     },
     "execution_count": 161,
     "metadata": {},
     "output_type": "execute_result"
    }
   ],
   "source": [
    "stopWordFound = [word for word in tokenizer(textual_text) if word in fr_stopwords]\n",
    "stopWordFound"
   ]
  },
  {
   "cell_type": "markdown",
   "metadata": {},
   "source": [
    "<b>STATS WITHOUT STOPWORD</b>"
   ]
  },
  {
   "cell_type": "code",
   "execution_count": 162,
   "metadata": {},
   "outputs": [],
   "source": [
    "word_list1 = statistician(textual_text)"
   ]
  },
  {
   "cell_type": "code",
   "execution_count": 163,
   "metadata": {},
   "outputs": [
    {
     "data": {
      "image/png": "[encoded data removed]",
      "text/plain": [
       "<Figure size 432x288 with 1 Axes>"
      ]
     },
     "metadata": {
      "needs_background": "light"
     },
     "output_type": "display_data"
    }
   ],
   "source": [
    "graphViewer(word_list1['stats'], 'ppp')"
   ]
  },
  {
   "cell_type": "code",
   "execution_count": 164,
   "metadata": {},
   "outputs": [
    {
     "data": {
      "text/plain": [
       "{'token': ['propriétaire',\n",
       "  'personne',\n",
       "  'possède',\n",
       "  'biens',\n",
       "  'immobiliers',\n",
       "  'adresse',\n",
       "  'agence',\n",
       "  'présenter',\n",
       "  'clients',\n",
       "  'propriétaire',\n",
       "  'peut',\n",
       "  'posséder',\n",
       "  'plusieurs',\n",
       "  'biens',\n",
       "  'immobiliers',\n",
       "  'bien',\n",
       "  'immobilier',\n",
       "  'peut',\n",
       "  'être',\n",
       "  'propriété',\n",
       "  'seul',\n",
       "  'propriétaire',\n",
       "  'bien',\n",
       "  'immobilier',\n",
       "  'louer',\n",
       "  'acheter',\n",
       "  'numéro',\n",
       "  'permet',\n",
       "  'identifier',\n",
       "  'parmi',\n",
       "  'tous',\n",
       "  'biens',\n",
       "  'immobiliers',\n",
       "  'bien',\n",
       "  'immobilier',\n",
       "  'appartient',\n",
       "  'toujours',\n",
       "  'seule',\n",
       "  'classe',\n",
       "  'standard',\n",
       "  'classe',\n",
       "  'standard',\n",
       "  'peut',\n",
       "  'contenir',\n",
       "  'aucun',\n",
       "  'bien',\n",
       "  'immobilier',\n",
       "  'client',\n",
       "  'peut',\n",
       "  'être',\n",
       "  'intéressé',\n",
       "  'plusieurs',\n",
       "  'classes',\n",
       "  'biens',\n",
       "  'client',\n",
       "  'identifié',\n",
       "  'numéro',\n",
       "  'attribué',\n",
       "  'compostage',\n",
       "  'peut',\n",
       "  'visiter',\n",
       "  'plusieurs',\n",
       "  'fois',\n",
       "  'bien',\n",
       "  'accompagné',\n",
       "  'responsable',\n",
       "  'différent',\n",
       "  'propriétaire',\n",
       "  'identifié',\n",
       "  'numéro'],\n",
       " 'stats': {'total': 70, 'unique': 42},\n",
       " 'freq': FreqDist({'peut': 5, 'bien': 5, 'propriétaire': 4, 'biens': 4, 'immobilier': 4, 'immobiliers': 3, 'plusieurs': 3, 'numéro': 3, 'être': 2, 'classe': 2, ...})}"
      ]
     },
     "execution_count": 164,
     "metadata": {},
     "output_type": "execute_result"
    }
   ],
   "source": [
    "word_list1"
   ]
  },
  {
   "cell_type": "markdown",
   "metadata": {},
   "source": [
    "<b>STEMMING</b>"
   ]
  },
  {
   "cell_type": "markdown",
   "metadata": {},
   "source": [
    "As we don't have lemmatization french function corpus in nltk we're going to use stemming to end this preprocess step"
   ]
  },
  {
   "cell_type": "code",
   "execution_count": 158,
   "metadata": {},
   "outputs": [],
   "source": [
    "stem_token = stemmer(word_list1['token'])"
   ]
  },
  {
   "cell_type": "code",
   "execution_count": 159,
   "metadata": {},
   "outputs": [
    {
     "data": {
      "text/plain": [
       "['propriétair', 'peut', 'possed', 'plusieur', 'bien', 'immobili']"
      ]
     },
     "execution_count": 159,
     "metadata": {},
     "output_type": "execute_result"
    }
   ],
   "source": [
    "stem_token"
   ]
  },
  {
   "cell_type": "code",
   "execution_count": null,
   "metadata": {},
   "outputs": [],
   "source": []
  }
 ],
 "metadata": {
  "kernelspec": {
   "display_name": "Python 3",
   "language": "python",
   "name": "python3"
  },
  "language_info": {
   "codemirror_mode": {
    "name": "ipython",
    "version": 3
   },
   "file_extension": ".py",
   "mimetype": "text/x-python",
   "name": "python",
   "nbconvert_exporter": "python",
   "pygments_lexer": "ipython3",
   "version": "3.7.6"
  }
 },
 "nbformat": 4,
 "nbformat_minor": 4
}
